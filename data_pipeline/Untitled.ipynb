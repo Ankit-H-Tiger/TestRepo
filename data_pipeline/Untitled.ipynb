{
 "cells": [
  {
   "cell_type": "code",
   "execution_count": 1,
   "id": "7ffa69a4",
   "metadata": {},
   "outputs": [],
   "source": [
    "import pandas as pd\n",
    "import numpy as np\n",
    "\n",
    "import os"
   ]
  },
  {
   "cell_type": "code",
   "execution_count": null,
   "id": "d8f89b81",
   "metadata": {},
   "outputs": [],
   "source": []
  },
  {
   "cell_type": "code",
   "execution_count": 2,
   "id": "d1d999d6",
   "metadata": {},
   "outputs": [
    {
     "data": {
      "text/html": [
       "<div>\n",
       "<style scoped>\n",
       "    .dataframe tbody tr th:only-of-type {\n",
       "        vertical-align: middle;\n",
       "    }\n",
       "\n",
       "    .dataframe tbody tr th {\n",
       "        vertical-align: top;\n",
       "    }\n",
       "\n",
       "    .dataframe thead th {\n",
       "        text-align: right;\n",
       "    }\n",
       "</style>\n",
       "<table border=\"1\" class=\"dataframe\">\n",
       "  <thead>\n",
       "    <tr style=\"text-align: right;\">\n",
       "      <th></th>\n",
       "      <th>pos_busn_dt</th>\n",
       "      <th>WAP</th>\n",
       "      <th>Mode_price</th>\n",
       "      <th>sld_menu_itm_id</th>\n",
       "    </tr>\n",
       "  </thead>\n",
       "  <tbody>\n",
       "    <tr>\n",
       "      <th>12632</th>\n",
       "      <td>2021-08-10</td>\n",
       "      <td>239.19</td>\n",
       "      <td>229.0</td>\n",
       "      <td>8663</td>\n",
       "    </tr>\n",
       "    <tr>\n",
       "      <th>12633</th>\n",
       "      <td>2021-08-11</td>\n",
       "      <td>236.61</td>\n",
       "      <td>229.0</td>\n",
       "      <td>8663</td>\n",
       "    </tr>\n",
       "    <tr>\n",
       "      <th>12634</th>\n",
       "      <td>2021-08-12</td>\n",
       "      <td>239.66</td>\n",
       "      <td>229.0</td>\n",
       "      <td>8663</td>\n",
       "    </tr>\n",
       "    <tr>\n",
       "      <th>12635</th>\n",
       "      <td>2021-08-13</td>\n",
       "      <td>242.00</td>\n",
       "      <td>229.0</td>\n",
       "      <td>8663</td>\n",
       "    </tr>\n",
       "    <tr>\n",
       "      <th>12636</th>\n",
       "      <td>2021-08-14</td>\n",
       "      <td>240.74</td>\n",
       "      <td>244.0</td>\n",
       "      <td>8663</td>\n",
       "    </tr>\n",
       "  </tbody>\n",
       "</table>\n",
       "</div>"
      ],
      "text/plain": [
       "      pos_busn_dt     WAP  Mode_price sld_menu_itm_id\n",
       "12632  2021-08-10  239.19       229.0            8663\n",
       "12633  2021-08-11  236.61       229.0            8663\n",
       "12634  2021-08-12  239.66       229.0            8663\n",
       "12635  2021-08-13  242.00       229.0            8663\n",
       "12636  2021-08-14  240.74       244.0            8663"
      ]
     },
     "execution_count": 2,
     "metadata": {},
     "output_type": "execute_result"
    }
   ],
   "source": [
    "path = '/opt/sasdata/dev/PricingEngines/DiscountEngines/Russia/data/processed/offline/ungrouped_data/wap/'\n",
    "\n",
    "df=pd.DataFrame()\n",
    "for item in os.listdir(path) :\n",
    "    for month in os.listdir(path + item) :\n",
    "        for file in os.listdir(path + item + '/' + month) :\n",
    "            \n",
    "            temp_df = pd.read_parquet(path + item + '/' + month + '/' + file)\n",
    "            temp_df['sld_menu_itm_id'] = item.split('=')[1]\n",
    "            df = pd.concat([df, temp_df])\n",
    "\n",
    "df.head()"
   ]
  },
  {
   "cell_type": "code",
   "execution_count": 3,
   "id": "0c936068",
   "metadata": {},
   "outputs": [
    {
     "name": "stdout",
     "output_type": "stream",
     "text": [
      "<class 'pandas.core.frame.DataFrame'>\n",
      "Int64Index: 465424 entries, 12632 to 29\n",
      "Data columns (total 4 columns):\n",
      " #   Column           Non-Null Count   Dtype         \n",
      "---  ------           --------------   -----         \n",
      " 0   pos_busn_dt      465424 non-null  datetime64[ns]\n",
      " 1   WAP              465146 non-null  float64       \n",
      " 2   Mode_price       463495 non-null  float64       \n",
      " 3   sld_menu_itm_id  465424 non-null  object        \n",
      "dtypes: datetime64[ns](1), float64(2), object(1)\n",
      "memory usage: 17.8+ MB\n"
     ]
    }
   ],
   "source": [
    "df.info()"
   ]
  },
  {
   "cell_type": "code",
   "execution_count": null,
   "id": "611a02d6",
   "metadata": {},
   "outputs": [],
   "source": []
  },
  {
   "cell_type": "code",
   "execution_count": 5,
   "id": "1e4c11fd",
   "metadata": {},
   "outputs": [
    {
     "data": {
      "text/html": [
       "<div>\n",
       "<style scoped>\n",
       "    .dataframe tbody tr th:only-of-type {\n",
       "        vertical-align: middle;\n",
       "    }\n",
       "\n",
       "    .dataframe tbody tr th {\n",
       "        vertical-align: top;\n",
       "    }\n",
       "\n",
       "    .dataframe thead th {\n",
       "        text-align: right;\n",
       "    }\n",
       "</style>\n",
       "<table border=\"1\" class=\"dataframe\">\n",
       "  <thead>\n",
       "    <tr style=\"text-align: right;\">\n",
       "      <th></th>\n",
       "      <th>pos_busn_dt</th>\n",
       "      <th>WAP</th>\n",
       "      <th>Mode_price</th>\n",
       "      <th>sld_menu_itm_id</th>\n",
       "    </tr>\n",
       "  </thead>\n",
       "  <tbody>\n",
       "    <tr>\n",
       "      <th>11930</th>\n",
       "      <td>2021-08-10</td>\n",
       "      <td>239.19</td>\n",
       "      <td>229.0</td>\n",
       "      <td>8663</td>\n",
       "    </tr>\n",
       "    <tr>\n",
       "      <th>11931</th>\n",
       "      <td>2021-08-11</td>\n",
       "      <td>236.61</td>\n",
       "      <td>229.0</td>\n",
       "      <td>8663</td>\n",
       "    </tr>\n",
       "    <tr>\n",
       "      <th>11932</th>\n",
       "      <td>2021-08-12</td>\n",
       "      <td>239.66</td>\n",
       "      <td>229.0</td>\n",
       "      <td>8663</td>\n",
       "    </tr>\n",
       "    <tr>\n",
       "      <th>11933</th>\n",
       "      <td>2021-08-13</td>\n",
       "      <td>242.00</td>\n",
       "      <td>229.0</td>\n",
       "      <td>8663</td>\n",
       "    </tr>\n",
       "    <tr>\n",
       "      <th>11934</th>\n",
       "      <td>2021-08-14</td>\n",
       "      <td>240.74</td>\n",
       "      <td>244.0</td>\n",
       "      <td>8663</td>\n",
       "    </tr>\n",
       "  </tbody>\n",
       "</table>\n",
       "</div>"
      ],
      "text/plain": [
       "      pos_busn_dt     WAP  Mode_price sld_menu_itm_id\n",
       "11930  2021-08-10  239.19       229.0            8663\n",
       "11931  2021-08-11  236.61       229.0            8663\n",
       "11932  2021-08-12  239.66       229.0            8663\n",
       "11933  2021-08-13  242.00       229.0            8663\n",
       "11934  2021-08-14  240.74       244.0            8663"
      ]
     },
     "execution_count": 5,
     "metadata": {},
     "output_type": "execute_result"
    }
   ],
   "source": [
    "gr_path = '/opt/sasdata/dev/PricingEngines/DiscountEngines/Russia/data/processed/offline/grouped/wap/'\n",
    "\n",
    "gr_df=pd.DataFrame()\n",
    "for item in os.listdir(gr_path) :\n",
    "    if 'metadata' not in item :\n",
    "        for month in os.listdir(gr_path + item) :\n",
    "            for file in os.listdir(gr_path + item + '/' + month) :\n",
    "\n",
    "                temp_df = pd.read_parquet(gr_path + item + '/' + month + '/' + file)\n",
    "                temp_df['sld_menu_itm_id'] = item.split('=')[1]\n",
    "                gr_df = pd.concat([gr_df, temp_df])\n",
    "\n",
    "gr_df.head()"
   ]
  },
  {
   "cell_type": "code",
   "execution_count": 6,
   "id": "755c98e6",
   "metadata": {},
   "outputs": [
    {
     "name": "stdout",
     "output_type": "stream",
     "text": [
      "<class 'pandas.core.frame.DataFrame'>\n",
      "Int64Index: 562768 entries, 11930 to 11929\n",
      "Data columns (total 4 columns):\n",
      " #   Column           Non-Null Count   Dtype         \n",
      "---  ------           --------------   -----         \n",
      " 0   pos_busn_dt      562768 non-null  datetime64[ns]\n",
      " 1   WAP              562581 non-null  float64       \n",
      " 2   Mode_price       560582 non-null  float64       \n",
      " 3   sld_menu_itm_id  562768 non-null  object        \n",
      "dtypes: datetime64[ns](1), float64(2), object(1)\n",
      "memory usage: 21.5+ MB\n"
     ]
    }
   ],
   "source": [
    "gr_df.info()"
   ]
  },
  {
   "cell_type": "code",
   "execution_count": null,
   "id": "034e7d17",
   "metadata": {},
   "outputs": [],
   "source": []
  },
  {
   "cell_type": "code",
   "execution_count": 7,
   "id": "a96b73f0",
   "metadata": {},
   "outputs": [],
   "source": [
    "df.to_parquet('/home/mc77916/data/ungrouped.parquet')"
   ]
  },
  {
   "cell_type": "code",
   "execution_count": 8,
   "id": "6b5f2da4",
   "metadata": {},
   "outputs": [],
   "source": [
    "gr_df.to_parquet('/home/mc77916/data/grouped.parquet')"
   ]
  },
  {
   "cell_type": "code",
   "execution_count": null,
   "id": "73efa642",
   "metadata": {},
   "outputs": [],
   "source": []
  },
  {
   "cell_type": "code",
   "execution_count": null,
   "id": "9bfed5e1",
   "metadata": {},
   "outputs": [],
   "source": [
    "gr_path = '/opt/sasdata/dev/PricingEngines/DiscountEngines/Russia/data/processed/offline/grouped/wap/'\n",
    "\n",
    "gr_df=pd.DataFrame()\n",
    "for item in os.listdir(gr_path) :\n",
    "    for month in os.listdir(gr_path + item) :\n",
    "        for file in os.listdir(gr_path + item + '/' + month) :\n",
    "            \n",
    "            temp_df = pd.read_parquet(gr_path + item + '/' + month + '/' + file)\n",
    "            temp_df['sld_menu_itm_id'] = item.split('=')[1]\n",
    "            gr_df = pd.concat([gr_df, temp_df])\n",
    "\n",
    "gr_df.head()"
   ]
  }
 ],
 "metadata": {
  "kernelspec": {
   "display_name": "Python 3",
   "language": "python",
   "name": "python3"
  },
  "language_info": {
   "codemirror_mode": {
    "name": "ipython",
    "version": 3
   },
   "file_extension": ".py",
   "mimetype": "text/x-python",
   "name": "python",
   "nbconvert_exporter": "python",
   "pygments_lexer": "ipython3",
   "version": "3.8.10"
  }
 },
 "nbformat": 4,
 "nbformat_minor": 5
}
