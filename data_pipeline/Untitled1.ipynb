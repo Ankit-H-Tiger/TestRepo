{
 "cells": [
  {
   "cell_type": "code",
   "execution_count": 1,
   "id": "7c63230a",
   "metadata": {},
   "outputs": [],
   "source": [
    "# Importing required packages\n",
    "import pandas as pd\n",
    "import numpy as np\n",
    "\n",
    "import os\n",
    "import gc"
   ]
  },
  {
   "cell_type": "code",
   "execution_count": null,
   "id": "11552a3c",
   "metadata": {},
   "outputs": [],
   "source": []
  },
  {
   "cell_type": "code",
   "execution_count": 4,
   "id": "9d8744c0",
   "metadata": {},
   "outputs": [
    {
     "data": {
      "text/html": [
       "<div>\n",
       "<style scoped>\n",
       "    .dataframe tbody tr th:only-of-type {\n",
       "        vertical-align: middle;\n",
       "    }\n",
       "\n",
       "    .dataframe tbody tr th {\n",
       "        vertical-align: top;\n",
       "    }\n",
       "\n",
       "    .dataframe thead th {\n",
       "        text-align: right;\n",
       "    }\n",
       "</style>\n",
       "<table border=\"1\" class=\"dataframe\">\n",
       "  <thead>\n",
       "    <tr style=\"text-align: right;\">\n",
       "      <th></th>\n",
       "      <th>pos_busn_dt</th>\n",
       "      <th>num_trans</th>\n",
       "      <th>quantity</th>\n",
       "      <th>sld_menu_itm_id</th>\n",
       "      <th>monthid</th>\n",
       "    </tr>\n",
       "    <tr>\n",
       "      <th>index</th>\n",
       "      <th></th>\n",
       "      <th></th>\n",
       "      <th></th>\n",
       "      <th></th>\n",
       "      <th></th>\n",
       "    </tr>\n",
       "  </thead>\n",
       "  <tbody>\n",
       "    <tr>\n",
       "      <th>0</th>\n",
       "      <td>2018-01-01</td>\n",
       "      <td>16</td>\n",
       "      <td>19</td>\n",
       "      <td>1005</td>\n",
       "      <td>201801</td>\n",
       "    </tr>\n",
       "    <tr>\n",
       "      <th>1</th>\n",
       "      <td>2018-01-02</td>\n",
       "      <td>509</td>\n",
       "      <td>580</td>\n",
       "      <td>1005</td>\n",
       "      <td>201801</td>\n",
       "    </tr>\n",
       "    <tr>\n",
       "      <th>2</th>\n",
       "      <td>2018-01-03</td>\n",
       "      <td>604</td>\n",
       "      <td>681</td>\n",
       "      <td>1005</td>\n",
       "      <td>201801</td>\n",
       "    </tr>\n",
       "    <tr>\n",
       "      <th>3</th>\n",
       "      <td>2018-01-04</td>\n",
       "      <td>706</td>\n",
       "      <td>779</td>\n",
       "      <td>1005</td>\n",
       "      <td>201801</td>\n",
       "    </tr>\n",
       "    <tr>\n",
       "      <th>4</th>\n",
       "      <td>2018-01-05</td>\n",
       "      <td>643</td>\n",
       "      <td>723</td>\n",
       "      <td>1005</td>\n",
       "      <td>201801</td>\n",
       "    </tr>\n",
       "  </tbody>\n",
       "</table>\n",
       "</div>"
      ],
      "text/plain": [
       "      pos_busn_dt  num_trans  quantity sld_menu_itm_id monthid\n",
       "index                                                         \n",
       "0      2018-01-01         16        19            1005  201801\n",
       "1      2018-01-02        509       580            1005  201801\n",
       "2      2018-01-03        604       681            1005  201801\n",
       "3      2018-01-04        706       779            1005  201801\n",
       "4      2018-01-05        643       723            1005  201801"
      ]
     },
     "execution_count": 4,
     "metadata": {},
     "output_type": "execute_result"
    }
   ],
   "source": [
    "path = '/opt/sasdata/dev/PricingEngines/DiscountEngines/Russia/data/processed/offline/grouped/item_level/'\n",
    "\n",
    "df = pd.read_parquet(path)\n",
    "\n",
    "df.head()"
   ]
  },
  {
   "cell_type": "code",
   "execution_count": 6,
   "id": "ad5cc681",
   "metadata": {},
   "outputs": [],
   "source": [
    "df[(df['sld_menu_itm_id'].isin([2240, 2302, 2100, 2350, 2010, 4060, 4065, 4070]))].to_parquet('grouped_units.parquet')"
   ]
  },
  {
   "cell_type": "code",
   "execution_count": null,
   "id": "df1706fe",
   "metadata": {},
   "outputs": [],
   "source": []
  }
 ],
 "metadata": {
  "kernelspec": {
   "display_name": "Python 3",
   "language": "python",
   "name": "python3"
  },
  "language_info": {
   "codemirror_mode": {
    "name": "ipython",
    "version": 3
   },
   "file_extension": ".py",
   "mimetype": "text/x-python",
   "name": "python",
   "nbconvert_exporter": "python",
   "pygments_lexer": "ipython3",
   "version": "3.8.10"
  }
 },
 "nbformat": 4,
 "nbformat_minor": 5
}
