{
 "cells": [
  {
   "cell_type": "code",
   "execution_count": 1,
   "id": "2ddc1139",
   "metadata": {},
   "outputs": [],
   "source": [
    "%load_ext autoreload\n",
    "%autoreload 2"
   ]
  },
  {
   "cell_type": "code",
   "execution_count": 2,
   "id": "19dca015",
   "metadata": {},
   "outputs": [
    {
     "ename": "ModuleNotFoundError",
     "evalue": "No module named 'pyreadstat'",
     "output_type": "error",
     "traceback": [
      "\u001b[0;31m---------------------------------------------------------------------------\u001b[0m",
      "\u001b[0;31mModuleNotFoundError\u001b[0m                       Traceback (most recent call last)",
      "\u001b[0;32m<ipython-input-2-598a5f294036>\u001b[0m in \u001b[0;36m<module>\u001b[0;34m\u001b[0m\n\u001b[1;32m      1\u001b[0m \u001b[0;31m# Loading required packages\u001b[0m\u001b[0;34m\u001b[0m\u001b[0;34m\u001b[0m\u001b[0;34m\u001b[0m\u001b[0m\n\u001b[1;32m      2\u001b[0m \u001b[0;34m\u001b[0m\u001b[0m\n\u001b[0;32m----> 3\u001b[0;31m \u001b[0;32mfrom\u001b[0m \u001b[0mta_lib\u001b[0m\u001b[0;34m.\u001b[0m\u001b[0mdata_utils\u001b[0m\u001b[0;34m.\u001b[0m\u001b[0mread_raw\u001b[0m \u001b[0;32mimport\u001b[0m \u001b[0mgdw_dump_to_parquet\u001b[0m\u001b[0;34m\u001b[0m\u001b[0;34m\u001b[0m\u001b[0m\n\u001b[0m\u001b[1;32m      4\u001b[0m \u001b[0;32mfrom\u001b[0m \u001b[0mta_lib\u001b[0m\u001b[0;34m.\u001b[0m\u001b[0mcore\u001b[0m\u001b[0;34m.\u001b[0m\u001b[0mapi\u001b[0m \u001b[0;32mimport\u001b[0m \u001b[0mload_yml\u001b[0m\u001b[0;34m,\u001b[0m \u001b[0mcreate_context\u001b[0m\u001b[0;34m\u001b[0m\u001b[0;34m\u001b[0m\u001b[0m\n",
      "\u001b[0;32m/opt/sasdata/dev/PricingEngines/DiscountEngines/Russia/code/mcd_ta/discount_engine/src/ta_lib/data_utils/read_raw/gdw_dump_to_parquet.py\u001b[0m in \u001b[0;36m<module>\u001b[0;34m\u001b[0m\n\u001b[1;32m      3\u001b[0m \u001b[0;32mimport\u001b[0m \u001b[0mos\u001b[0m\u001b[0;34m\u001b[0m\u001b[0;34m\u001b[0m\u001b[0m\n\u001b[1;32m      4\u001b[0m \u001b[0;32mimport\u001b[0m \u001b[0mgc\u001b[0m\u001b[0;34m\u001b[0m\u001b[0;34m\u001b[0m\u001b[0m\n\u001b[0;32m----> 5\u001b[0;31m \u001b[0;32mimport\u001b[0m \u001b[0mpyreadstat\u001b[0m\u001b[0;34m\u001b[0m\u001b[0;34m\u001b[0m\u001b[0m\n\u001b[0m\u001b[1;32m      6\u001b[0m \u001b[0;34m\u001b[0m\u001b[0m\n\u001b[1;32m      7\u001b[0m \u001b[0;34m\u001b[0m\u001b[0m\n",
      "\u001b[0;31mModuleNotFoundError\u001b[0m: No module named 'pyreadstat'"
     ]
    }
   ],
   "source": [
    "# Loading required packages\n",
    "\n",
    "from ta_lib.data_utils.read_raw import gdw_dump_to_parquet\n",
    "from ta_lib.core.api import load_yml, create_context"
   ]
  },
  {
   "cell_type": "code",
   "execution_count": 3,
   "id": "74437e63",
   "metadata": {},
   "outputs": [],
   "source": [
    "# Defining configs\n",
    "\n",
    "config_path = '../conf/config.yml'\n",
    "cfg = create_context(config_path)\n"
   ]
  },
  {
   "cell_type": "code",
   "execution_count": null,
   "id": "7d671462",
   "metadata": {},
   "outputs": [],
   "source": []
  },
  {
   "cell_type": "markdown",
   "id": "80380a29",
   "metadata": {},
   "source": [
    "# Converting dump to parquet"
   ]
  },
  {
   "cell_type": "code",
   "execution_count": null,
   "id": "1e68453c",
   "metadata": {},
   "outputs": [
    {
     "name": "stdout",
     "output_type": "stream",
     "text": [
      "Started loading  20210701/\n",
      "Time taken is :  2021-09-17 12:09:05.780206 0 days 00:14:38.645809\n",
      "Done with loading  20210701/\n",
      "Started loading  20210601/\n",
      "Time taken is :  2021-09-17 12:42:01.807617 0 days 00:32:23.007040\n",
      "Done with loading  20210601/\n",
      "Started loading  20210501/\n",
      "Time taken is :  2021-09-17 13:13:53.724297 0 days 00:31:20.296968\n",
      "Done with loading  20210501/\n",
      "Started loading  20210401/\n",
      "Time taken is :  2021-09-17 13:44:28.187749 0 days 00:30:12.197597\n",
      "Done with loading  20210401/\n",
      "Started loading  20210301/\n",
      "Time taken is :  2021-09-17 14:12:33.655760 0 days 00:27:37.130412\n",
      "Done with loading  20210301/\n",
      "Started loading  20210201/\n",
      "Time taken is :  2021-09-17 14:36:40.539194 0 days 00:23:41.033624\n",
      "Done with loading  20210201/\n",
      "Started loading  20210101/\n",
      "Time taken is :  2021-09-17 15:01:43.318418 0 days 00:24:39.934529\n",
      "Done with loading  20210101/\n",
      "Started loading  20201201/\n",
      "Time taken is :  2021-09-17 15:25:40.972511 0 days 00:23:38.980353\n",
      "Done with loading  20201201/\n",
      "Started loading  20201101/\n",
      "Time taken is :  2021-09-17 15:48:10.465324 0 days 00:22:13.309306\n",
      "Done with loading  20201101/\n",
      "Started loading  20201001/\n",
      "Time taken is :  2021-09-17 16:14:04.953357 0 days 00:25:39.901026\n",
      "Done with loading  20201001/\n",
      "Started loading  20200901/\n",
      "Time taken is :  2021-09-17 16:39:56.656756 0 days 00:25:32.997514\n",
      "Done with loading  20200901/\n",
      "Started loading  20200801/\n",
      "Time taken is :  2021-09-17 17:06:59.992046 0 days 00:26:47.362470\n",
      "Done with loading  20200801/\n",
      "Started loading  20200701/\n",
      "Time taken is :  2021-09-17 17:32:05.614870 0 days 00:24:49.481934\n",
      "Done with loading  20200701/\n",
      "Started loading  20200601/\n",
      "Time taken is :  2021-09-17 17:52:52.180585 0 days 00:20:31.246637\n",
      "Done with loading  20200601/\n",
      "Started loading  20200501/\n",
      "Time taken is :  2021-09-17 18:08:54.337423 0 days 00:15:49.831312\n",
      "Done with loading  20200501/\n",
      "Started loading  20200401/\n",
      "Time taken is :  2021-09-17 18:20:08.061374 0 days 00:11:04.521725\n",
      "Done with loading  20200401/\n",
      "Started loading  20200301/\n",
      "Time taken is :  2021-09-17 18:42:00.722220 0 days 00:21:46.431670\n",
      "Done with loading  20200301/\n",
      "Started loading  20200201/\n",
      "Time taken is :  2021-09-17 19:05:15.418763 0 days 00:22:59.223160\n",
      "Done with loading  20200201/\n",
      "Started loading  20200101/\n",
      "Time taken is :  2021-09-17 19:30:13.617460 0 days 00:24:40.043026\n",
      "Done with loading  20200101/\n",
      "Started loading  20191201/\n",
      "Time taken is :  2021-09-17 19:56:48.144032 0 days 00:26:17.971708\n",
      "Done with loading  20191201/\n",
      "Started loading  20191101/\n",
      "Time taken is :  2021-09-17 20:23:21.285607 0 days 00:26:15.314231\n",
      "Done with loading  20191101/\n",
      "Started loading  20191001/\n",
      "Time taken is :  2021-09-17 20:50:30.495628 0 days 00:26:53.354428\n",
      "Done with loading  20191001/\n",
      "Started loading  20190901/\n",
      "Time taken is :  2021-09-17 21:17:34.666475 0 days 00:26:46.023762\n",
      "Done with loading  20190901/\n",
      "Started loading  20190801/\n",
      "Time taken is :  2021-09-17 21:45:52.765096 0 days 00:27:59.748503\n",
      "Done with loading  20190801/\n",
      "Started loading  20190701/\n",
      "Time taken is :  2021-09-17 22:13:54.939571 0 days 00:27:43.191608\n",
      "Done with loading  20190701/\n",
      "Started loading  20190601/\n",
      "Time taken is :  2021-09-17 22:42:10.100650 0 days 00:27:57.749319\n",
      "Done with loading  20190601/\n",
      "Started loading  20190501/\n",
      "Time taken is :  2021-09-17 23:10:37.603176 0 days 00:28:08.977431\n",
      "Done with loading  20190501/\n",
      "Started loading  20190401/\n"
     ]
    }
   ],
   "source": [
    "gdw_dump_to_parquet.convert_datadump(cfg.offline, start_month='2018-08-01', end_month='2021-07-31')"
   ]
  },
  {
   "cell_type": "code",
   "execution_count": null,
   "id": "55c5983c",
   "metadata": {},
   "outputs": [],
   "source": []
  }
 ],
 "metadata": {
  "kernelspec": {
   "display_name": "Python 3",
   "language": "python",
   "name": "python3"
  },
  "language_info": {
   "codemirror_mode": {
    "name": "ipython",
    "version": 3
   },
   "file_extension": ".py",
   "mimetype": "text/x-python",
   "name": "python",
   "nbconvert_exporter": "python",
   "pygments_lexer": "ipython3",
   "version": "3.8.10"
  }
 },
 "nbformat": 4,
 "nbformat_minor": 5
}
