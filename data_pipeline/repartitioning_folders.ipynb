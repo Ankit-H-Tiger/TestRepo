{
 "cells": [
  {
   "cell_type": "code",
   "execution_count": null,
   "id": "b8910d58",
   "metadata": {},
   "outputs": [],
   "source": [
    "# Importing required packages\n",
    "import pandas as pd\n",
    "import numpy as np\n",
    "\n",
    "import os\n",
    "import gc"
   ]
  },
  {
   "cell_type": "code",
   "execution_count": null,
   "id": "76c090c8",
   "metadata": {},
   "outputs": [],
   "source": []
  },
  {
   "cell_type": "code",
   "execution_count": null,
   "id": "39952846",
   "metadata": {},
   "outputs": [],
   "source": [
    "path = '/opt/sasdata/dev/PricingEngines/DiscountEngines/Russia/data/processed/overall/offline/item_level/'\n",
    "\n",
    "df = pd.DataFrame()\n",
    "for item in os.listdir(path) :\n",
    "    if 'metadata' not in item and '.' not in item:\n",
    "        for month in os.listdir(path + item) :\n",
    "            for file in os.listdir(path + item + '/' + month) :\n",
    "                temp_df = pd.read_parquet(path + item + '/' + month + '/' + file)\n",
    "                if 'sld_menu_itm_id' not in temp_df.columns :\n",
    "                    temp_df['sld_menu_itm_id'] = int(item.split('=')[1])\n",
    "                    \n",
    "                df = pd.concat([df, temp_df], axis=0)\n",
    "                \n",
    "df.head()"
   ]
  },
  {
   "cell_type": "code",
   "execution_count": null,
   "id": "bedf79eb",
   "metadata": {},
   "outputs": [],
   "source": []
  },
  {
   "cell_type": "code",
   "execution_count": null,
   "id": "b238b873",
   "metadata": {},
   "outputs": [],
   "source": [
    "df.info()"
   ]
  },
  {
   "cell_type": "code",
   "execution_count": null,
   "id": "2df28e2a",
   "metadata": {},
   "outputs": [],
   "source": [
    "df = df.drop_duplicates().reset_index(drop=True)\n",
    "\n",
    "df.shape"
   ]
  },
  {
   "cell_type": "code",
   "execution_count": null,
   "id": "be8e370b",
   "metadata": {},
   "outputs": [],
   "source": [
    "288312 + 323479"
   ]
  },
  {
   "cell_type": "code",
   "execution_count": null,
   "id": "0263274c",
   "metadata": {},
   "outputs": [],
   "source": [
    "df['new_qt'] = np.where(df['pos_itm_tot_qt'].isna(), df['quantity'], df['pos_itm_tot_qt'])\n",
    "df['new_gc'] = np.where(df['gc'].isna(), df['num_trans'], df['gc'])\n",
    "\n",
    "del df['pos_itm_tot_qt']\n",
    "del df['quantity']\n",
    "del df['gc']\n",
    "del df['num_trans']\n",
    "\n",
    "df.rename(columns={'new_qt':'quantity', 'new_gc':'num_trans'}, inplace=True)"
   ]
  },
  {
   "cell_type": "code",
   "execution_count": null,
   "id": "5e2f5ce0",
   "metadata": {},
   "outputs": [],
   "source": [
    "df.info()"
   ]
  },
  {
   "cell_type": "code",
   "execution_count": null,
   "id": "da94b320",
   "metadata": {},
   "outputs": [],
   "source": [
    "del df['__index_level_0__']"
   ]
  },
  {
   "cell_type": "code",
   "execution_count": null,
   "id": "c8c8fb1d",
   "metadata": {},
   "outputs": [],
   "source": [
    "def format_dtype(df, add_monthid=False) :\n",
    "    \n",
    "    dtype_dict = {'mcd_gbal_lcat_id_nu':'int',\n",
    "                 'sld_menu_itm_id':'int',\n",
    "                 'num_trans':'int',\n",
    "                 'quantity':'int',\n",
    "                 'WAP':'float',\n",
    "                 'Mode_price':'float'}\n",
    "    df_columns = list(df.columns.values)\n",
    "    \n",
    "    if 'pos_busn_dt' in df_columns :\n",
    "        df['pos_busn_dt'] = pd.to_datetime(df['pos_busn_dt'])\n",
    "           \n",
    "    if add_monthid :\n",
    "        df['monthid'] = df['pos_busn_dt'].dt.strftime('%Y%m')\n",
    "           \n",
    "    for ind, val in dtype_dict.items():\n",
    "        if ind in df_columns :\n",
    "            df[ind] = df[ind].astype(val)\n",
    "           \n",
    "    return df\n"
   ]
  },
  {
   "cell_type": "code",
   "execution_count": null,
   "id": "9d0bb9ed",
   "metadata": {},
   "outputs": [],
   "source": [
    "df = format_dtype(df, add_monthid=True)\n",
    "df.info()"
   ]
  },
  {
   "cell_type": "code",
   "execution_count": null,
   "id": "bc414269",
   "metadata": {},
   "outputs": [],
   "source": [
    "# Storing results\n",
    "op_path = '/opt/sasdata/dev/PricingEngines/DiscountEngines/Russia/data/processed/overall/ungrouped/wap_mer/'\n",
    "\n",
    "os.makedirs(op_path, exist_ok=True)\n",
    "df.to_parquet(op_path, partition_cols=['sld_menu_itm_id', 'monthid'])"
   ]
  },
  {
   "cell_type": "code",
   "execution_count": null,
   "id": "6562ec5c",
   "metadata": {},
   "outputs": [],
   "source": []
  },
  {
   "cell_type": "code",
   "execution_count": null,
   "id": "3753b502",
   "metadata": {},
   "outputs": [],
   "source": [
    "# load check\n",
    "ch_df = pd.read_parquet(op_path)\n",
    "\n",
    "ch_df.shape"
   ]
  },
  {
   "cell_type": "code",
   "execution_count": null,
   "id": "f3821ba6",
   "metadata": {},
   "outputs": [],
   "source": [
    "ch_df.drop_duplicates()"
   ]
  },
  {
   "cell_type": "code",
   "execution_count": null,
   "id": "15f270ac",
   "metadata": {},
   "outputs": [],
   "source": []
  }
 ],
 "metadata": {
  "kernelspec": {
   "display_name": "Python 3",
   "language": "python",
   "name": "python3"
  },
  "language_info": {
   "codemirror_mode": {
    "name": "ipython",
    "version": 3
   },
   "file_extension": ".py",
   "mimetype": "text/x-python",
   "name": "python",
   "nbconvert_exporter": "python",
   "pygments_lexer": "ipython3",
   "version": "3.8.10"
  }
 },
 "nbformat": 4,
 "nbformat_minor": 5
}
