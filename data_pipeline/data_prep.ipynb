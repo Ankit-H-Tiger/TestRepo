{
 "cells": [
  {
   "cell_type": "code",
   "execution_count": 18,
   "metadata": {},
   "outputs": [],
   "source": [
    "# Importing required packages\n",
    "\n",
    "import pandas as pd\n",
    "import numpy as np\n",
    "import os"
   ]
  },
  {
   "cell_type": "code",
   "execution_count": null,
   "metadata": {},
   "outputs": [],
   "source": []
  },
  {
   "cell_type": "code",
   "execution_count": null,
   "metadata": {},
   "outputs": [],
   "source": [
    "# Defining file paths\n",
    "\n",
    "offline_input_path = '/opt/sasdata/dev/PricingEngines/DiscountEngines/Russia/data/raw/offline/'\n",
    "digital_input_path = 'digital_trns/trans_ids/month_id='\n",
    "output_path = '/opt/sasdata/dev/PricingEngines/DiscountEngines/Russia/data/processed/offline/'"
   ]
  },
  {
   "cell_type": "code",
   "execution_count": null,
   "metadata": {},
   "outputs": [],
   "source": [
    "# pd.read_parquet(offline_input_path + '20200301/data.parquet')"
   ]
  },
  {
   "cell_type": "code",
   "execution_count": null,
   "metadata": {},
   "outputs": [],
   "source": [
    "%%time\n",
    "for file in [x for x in os.listdir(offline_input_path) if '202003' in x] :\n",
    "    \n",
    "    grouper_cols = ['Master_id', 'pos_busn_dt']\n",
    "    \n",
    "    # Loading dumped GDW data\n",
    "    df = pd.read_parquet(offline_input_path + file + '/data.parquet')\n",
    "    \n",
    "    # Merging Store Master file\n",
    "    item_df = pd.read_excel('Item_Master.xlsx')[['sld_menu_itm_id', 'Parent_id']]\n",
    "    item_df['Master_id'] = np.where(item_df['Parent_id'].isna(), item_df['sld_menu_itm_id'], item_df['Parent_id'])\n",
    "    \n",
    "    del item_df['Parent_id']\n",
    "    \n",
    "    df = df.merge(item_df, on=['sld_menu_itm_id'], how='left')\n",
    "    df['Master_id'] = np.where(df['Master_id'].isna(), df['sld_menu_itm_id'], df['Master_id'])\n",
    "    \n",
    "    # Getting Trn key\n",
    "    df['trn_key'] = df['pos_busn_dt'].astype('str') + '-' + df['mcd_gbal_lcat_id_nu'].astype('stre') + '-' + \\\n",
    "                    df['pos_ord_nu'].astype('str')\n",
    "        \n",
    "    print('Donw ith loading data')\n",
    "    # Altering Cmobo price to get WAP if needed\n",
    "    if 'WAP' in 'WAP' :\n",
    "        alc_df = df[(df['cmbo_pren_sld_menu_itm_id'] == -1)].reset_index(drop=True)\n",
    "        cmbo_df = df[(df['cmbo_pren_sld_menu_itm_id'] != -1)].reset_index(drop=True)\n",
    "    \n",
    "        del df\n",
    "        gc.collect()\n",
    "        \n",
    "        cmbo_pr_df = cmbo_df.groupby(['pos_busn_dt', 'mcd_gbal_lcat_id_nu', 'pos_ord_nu', 'cmbo_pren_sld_menu_itm_id'])[['pos_itm_grss_unt_prc_am']].sum().reset_index()\n",
    "        cmbo_pr_df = cmbo_pr_df.merge(cmbo_df[(cmbo_df['cmbo_pren_sld_menu_itm_id'] == cmbo_df['sld_menu_itm_id'])].groupby(['pos_busn_dt', \n",
    "                                                                                               'mcd_gbal_lcat_id_nu', \n",
    "                                                                                               'pos_ord_nu', \n",
    "                                                                                               'cmbo_pren_sld_menu_itm_id'])[['pos_itm_tot_qt']].sum().reset_index(),\n",
    "                                      on=['pos_busn_dt', 'mcd_gbal_lcat_id_nu', 'pos_ord_nu', 'cmbo_pren_sld_menu_itm_id'], how='left')\n",
    "        \n",
    "        cmbo_pr_df['pos_itm_tot_qt'].fillna(1, inplace=True)\n",
    "        cmbo_pr_df['cmbo_price'] = cmbo_pr_df['pos_itm_grss_unt_prc_am']/cmbo_pr_df['pos_itm_tot_qt']\n",
    "        \n",
    "        del cmbo_pr_df['pos_itm_grss_unt_prc_am']\n",
    "        del cmbo_pr_df['pos_itm_tot_qt']\n",
    "        \n",
    "        cmbo_df = cmbo_df.merge(cmbo_pr_df, on=['pos_busn_dt', 'mcd_gbal_lcat_id_nu', 'pos_ord_nu', 'cmbo_pren_sld_menu_itm_id'], how='left')\n",
    "        cmbo_df['pos_itm_grss_unt_prc_am'] = cmbo_df['cmbo_price']\n",
    "        \n",
    "        del cmbo_df['cmbo_price']\n",
    "        \n",
    "        df = pd.concat([alc_df, cmbo_df], axis=0).reset_index(drop=True)\n",
    "        \n",
    "        # Removing Child Items\n",
    "        df = df[(df['cmbo_pren_sld_menu_itm_id'] == -1)|(df['cmbo_pren_sld_menu_itm_id'] == df['sld_menu_itm_id'])].reset_index(drop=True)\n",
    "    \n",
    "    else :\n",
    "        # Removing Child Items\n",
    "        df = df[(df['cmbo_pren_sld_menu_itm_id'] == -1)|(df['cmbo_pren_sld_menu_itm_id'] == df['sld_menu_itm_id'])].reset_index(drop=True)\n",
    "        \n",
    "    print('Donw ith WAP')\n",
    "    # Loading digital trn data to remove those trns\n",
    "    if os.path.exists(digital_input_path + file + '/'):\n",
    "        dig_df = pd.read_parquet(digital_input_path + file + 'part-0.parquet')[['order_key', 'store_number']]\n",
    "        dig_df['pos_ord_nu'] = dig_df['order_key'].apply(lambda x : x.split(':')[1]).astype('int64')\n",
    "        \n",
    "        store_df = pd.read_excel('Store_Master.xlsx')[['mcd_gbal_lcat_id_nu', 'busn_lcat_id_nu']]\n",
    "        dig_df = dig_df.merge(store_df, left_on=['store_number'], right_on=['busn_lcat_id_nu'], how='inner')\n",
    "        dig_df['mcd_gbal_lcat_id_nu'] = dig_df['mcd_gbal_lcat_id_nu'].astype('int64')\n",
    "        \n",
    "        dig_df['digital_flag'] = 1\n",
    "        del dig_df['order_key']\n",
    "        del dig_df['store_number']\n",
    "        del dig_df['busn_lcat_id_nu']\n",
    "        \n",
    "        df = df.merge(dig_df, on=['mcd_gbal_lcat_id_nu', 'pos_ord_nu'], how='left')\n",
    "        print('Donw ith digital merge')\n",
    "        \n",
    "        # Clearing space\n",
    "        del dig_df\n",
    "        del store_df\n",
    "        del item_df\n",
    "        gc.collect()\n",
    "        \n",
    "        if 'Digital' in 'Digital' :\n",
    "            dig_temp_df = df[(~df['digital_flag'].isna())].reset_index(drop=True)\n",
    "            \n",
    "            dig_res_df = dig_temp_df.groupby(grouper_cols)[['pos_itm_tot_qt']].sum().reset_index()\n",
    "            dig_res_df = dig_res_df.merge(dig_temp_df.groupby(grouper_cols)[['trn_key']].nunique().reset_index(), on=grouper_cols)\n",
    "            dig_res_df = dig_res_df.merge(dig_temp_df[(dig_temp_df['terr_pos_trn_typ_cd'].isin(['014', '114']))].groupby(grouper_cols)[['trn_key']].nunique().reset_index(),\n",
    "                                          on=grouper_cols)\n",
    "            \n",
    "            # Getting WAP\n",
    "            dig_temp_df['mult'] = dig_temp_df['pos_itm_grss_unt_prc_am']*dig_temp_df['pos_itm_tot_qt']\n",
    "            dig_wap_df = dig_temp_df.groupby()[['mult', 'pos_itm_tot_qt']].sum().reset_index()\n",
    "            dig_wap_df['WAP'] = (dig_wap_df['mult']/dig_wap_df['pos_itm_tot_qt']).round(2)\n",
    "            del dig_wap_df['mult']\n",
    "            del dig_wap_df['pos_itm_tot_qt']\n",
    "            del dig_wap_df['pos_itm_grss_unt_prc_am']\n",
    "            \n",
    "            dig_res_df = dig_res_df.merge(dig_wap_df, on=grouper_cols)\n",
    "            print('Donw ith digital result')\n",
    "            \n",
    "        if 'Offline' in 'Offline' :\n",
    "            off_temp_df = df[(df['digital_flag'].isna())].reset_index(drop=True)\n",
    "            off_res_df = off_temp_df.groupby(grouper_cols)[['pos_itm_tot_qt']].sum().reset_index()\n",
    "            off_res_df = off_res_df.merge(off_temp_df.groupby(grouper_cols)[['trn_key']].nunique().reset_index(), on=grouper_cols)\n",
    "            off_res_df = off_res_df.merge(off_temp_df[(off_temp_df['terr_pos_trn_typ_cd'].isin(['014', '114']))].groupby(grouper_cols)[['trn_key']].nunique().reset_index(),\n",
    "                                          on=grouper_cols)\n",
    "            \n",
    "            # Getting WAP\n",
    "            off_temp_df['mult'] = off_temp_df['pos_itm_grss_unt_prc_am']*off_temp_df['pos_itm_tot_qt']\n",
    "            off_wap_df = off_temp_df.groupby(grouper_cols)[['mult', 'pos_itm_tot_qt']].sum().reset_index()\n",
    "            off_wap_df['WAP'] = (off_wap_df['mult']/off_wap_df['pos_itm_tot_qt']).round(2)\n",
    "            del off_wap_df['mult']\n",
    "            del off_wap_df['pos_itm_tot_qt']\n",
    "            del off_wap_df['pos_itm_grss_unt_prc_am']\n",
    "            \n",
    "            \n",
    "            off_res_df = off_res_df.merge(off_wap_df, on=grouper_cols)\n",
    "            print('Donw ith offline result')\n",
    "        \n",
    "    \n",
    "    \n",
    "    break"
   ]
  },
  {
   "cell_type": "code",
   "execution_count": null,
   "metadata": {},
   "outputs": [],
   "source": [
    "dig_res_df"
   ]
  },
  {
   "cell_type": "code",
   "execution_count": 14,
   "metadata": {},
   "outputs": [],
   "source": [
    "import glob\n",
    "import os\n",
    "for month_ in ['202109','202110','202111']:\n",
    "    path = f'/opt/sasdata/dev/PricingEngines/DiscountEngines/Russia/data/processed/company_wise_dv/offline/ungrouped_data/item_level/sld_menu_itm_id=*/company=*/monthid={month_}'\n",
    "    list_files=glob.glob(path)\n",
    "    import shutil\n",
    "    for folder_ in list_files:\n",
    "        shutil.rmtree(folder_)"
   ]
  },
  {
   "cell_type": "code",
   "execution_count": null,
   "metadata": {},
   "outputs": [],
   "source": [
    "import glob\n",
    "import os\n",
    "for month_ in ['202109','202110','202111']:\n",
    "    path = f'/opt/sasdata/dev/PricingEngines/DiscountEngines/Russia/data/processed/dv_data/offline/day_level/'\n",
    "    list_files=glob.glob(path)\n",
    "    import shutil\n",
    "    for folder_ in list_files:\n",
    "        shutil.rmtree(folder_)"
   ]
  },
  {
   "cell_type": "code",
   "execution_count": 9,
   "metadata": {},
   "outputs": [
    {
     "data": {
      "text/plain": [
       "'/opt/sasdata/dev/PricingEngines/DiscountEngines/Russia/data/processed/company_wise_dv/offline/ungrouped_data/item_level/sld_menu_itm_id=8663/company=rost/monthid=202110'"
      ]
     },
     "execution_count": 9,
     "metadata": {},
     "output_type": "execute_result"
    }
   ],
   "source": [
    "list_files[2]"
   ]
  },
  {
   "cell_type": "code",
   "execution_count": 7,
   "metadata": {},
   "outputs": [],
   "source": []
  },
  {
   "cell_type": "code",
   "execution_count": 11,
   "metadata": {},
   "outputs": [],
   "source": [
    "path = f'/opt/sasdata/dev/PricingEngines/DiscountEngines/Russia/data/processed/company_wise_dv/offline/ungrouped_data/item_level/sld_menu_itm_id=*/company=*/monthid={month_}'\n",
    "list_files=glob.glob(path)"
   ]
  },
  {
   "cell_type": "code",
   "execution_count": 13,
   "metadata": {},
   "outputs": [
    {
     "data": {
      "text/plain": [
       "2841"
      ]
     },
     "execution_count": 13,
     "metadata": {},
     "output_type": "execute_result"
    }
   ],
   "source": [
    "len(list_files)"
   ]
  },
  {
   "cell_type": "code",
   "execution_count": 15,
   "metadata": {},
   "outputs": [],
   "source": [
    "path = f'/opt/sasdata/dev/PricingEngines/DiscountEngines/Russia/data/processed/dv_data/offline/day_level/'\n",
    "list_files=glob.glob(path)"
   ]
  },
  {
   "cell_type": "code",
   "execution_count": 16,
   "metadata": {},
   "outputs": [
    {
     "data": {
      "text/plain": [
       "['/opt/sasdata/dev/PricingEngines/DiscountEngines/Russia/data/processed/dv_data/offline/day_level/']"
      ]
     },
     "execution_count": 16,
     "metadata": {},
     "output_type": "execute_result"
    }
   ],
   "source": [
    "list_files"
   ]
  },
  {
   "cell_type": "code",
   "execution_count": 23,
   "metadata": {},
   "outputs": [
    {
     "ename": "ValueError",
     "evalue": "Schema in partition[monthid=44] /opt/sasdata/dev/PricingEngines/DiscountEngines/Russia/data/processed/company_wise_dv/offline/day_level/company=mcopco//monthid=202109/dda3e1742c0644beafcf3d386d3ce98b.parquet was different. \npos_busn_dt: timestamp[ms]\nnum_trans: int64\nmetadata\n--------\n{b'ARROW:schema': b'/////3gCAAAQAAAAAAAKAA4ABgAFAAgACgAAAAABAwAQAAAAAAAKAAwA'\n                  b'AAAEAAgACgAAALgBAAAEAAAAAQAAAAwAAAAIAAwABAAIAAgAAAAIAAAA'\n                  b'EAAAAAYAAABwYW5kYXMAAIEBAAB7ImluZGV4X2NvbHVtbnMiOiBbXSwg'\n                  b'ImNvbHVtbl9pbmRleGVzIjogW10sICJjb2x1bW5zIjogW3sibmFtZSI6'\n                  b'ICJwb3NfYnVzbl9kdCIsICJmaWVsZF9uYW1lIjogInBvc19idXNuX2R0'\n                  b'IiwgInBhbmRhc190eXBlIjogImRhdGV0aW1lIiwgIm51bXB5X3R5cGUi'\n                  b'OiAiZGF0ZXRpbWU2NFtuc10iLCAibWV0YWRhdGEiOiBudWxsfSwgeyJu'\n                  b'YW1lIjogIm51bV90cmFucyIsICJmaWVsZF9uYW1lIjogIm51bV90cmFu'\n                  b'cyIsICJwYW5kYXNfdHlwZSI6ICJpbnQ2NCIsICJudW1weV90eXBlIjog'\n                  b'ImludDY0IiwgIm1ldGFkYXRhIjogbnVsbH1dLCAiY3JlYXRvciI6IHsi'\n                  b'bGlicmFyeSI6ICJweWFycm93IiwgInZlcnNpb24iOiAiMC4xNS4xIn0s'\n                  b'ICJwYW5kYXNfdmVyc2lvbiI6ICIxLjAuNSJ9AAAAAgAAAFQAAAAEAAAA'\n                  b'xP///wAAAQIkAAAAFAAAAAQAAAAAAAAACAAMAAgABwAIAAAAAAAAAUAA'\n                  b'AAAJAAAAbnVtX3RyYW5zAAAAEAAUAAgABgAHAAwAAAAQABAAAAAAAAEK'\n                  b'IAAAABQAAAAEAAAAAAAAAAAABgAIAAYABgAAAAAAAwALAAAAcG9zX2J1'\n                  b'c25fZHQAAAAAAA==',\n b'pandas': b'{\"index_columns\": [], \"column_indexes\": [], \"columns\": [{\"name\":'\n            b' \"pos_busn_dt\", \"field_name\": \"pos_busn_dt\", \"pandas_type\": \"dat'\n            b'etime\", \"numpy_type\": \"datetime64[ns]\", \"metadata\": null}, {\"nam'\n            b'e\": \"num_trans\", \"field_name\": \"num_trans\", \"pandas_type\": \"int6'\n            b'4\", \"numpy_type\": \"int64\", \"metadata\": null}], \"creator\": {\"libr'\n            b'ary\": \"pyarrow\", \"version\": \"0.15.1\"}, \"pandas_version\": \"1.0.5\"'\n            b'}'}\n\nvs\n\npos_busn_dt: timestamp[us]\nnum_trans: int64\nstore_count: int64\ngross_sales: double\n__index_level_0__: int64\nmetadata\n--------\n{b'ARROW:schema': b'/////xAFAAAQAAAAAAAKAA4ABgAFAAgACgAAAAABBAAQAAAAAAAKAAwA'\n                  b'AAAEAAgACgAAAKgDAAAEAAAAAQAAAAwAAAAIAAwABAAIAAgAAAAIAAAA'\n                  b'EAAAAAYAAABwYW5kYXMAAHADAAB7ImluZGV4X2NvbHVtbnMiOiBbIl9f'\n                  b'aW5kZXhfbGV2ZWxfMF9fIl0sICJjb2x1bW5faW5kZXhlcyI6IFt7Im5h'\n                  b'bWUiOiBudWxsLCAiZmllbGRfbmFtZSI6IG51bGwsICJwYW5kYXNfdHlw'\n                  b'ZSI6ICJ1bmljb2RlIiwgIm51bXB5X3R5cGUiOiAib2JqZWN0IiwgIm1l'\n                  b'dGFkYXRhIjogeyJlbmNvZGluZyI6ICJVVEYtOCJ9fV0sICJjb2x1bW5z'\n                  b'IjogW3sibmFtZSI6ICJwb3NfYnVzbl9kdCIsICJmaWVsZF9uYW1lIjog'\n                  b'InBvc19idXNuX2R0IiwgInBhbmRhc190eXBlIjogImRhdGV0aW1lIiwg'\n                  b'Im51bXB5X3R5cGUiOiAiZGF0ZXRpbWU2NFtuc10iLCAibWV0YWRhdGEi'\n                  b'OiBudWxsfSwgeyJuYW1lIjogIm51bV90cmFucyIsICJmaWVsZF9uYW1l'\n                  b'IjogIm51bV90cmFucyIsICJwYW5kYXNfdHlwZSI6ICJpbnQ2NCIsICJu'\n                  b'dW1weV90eXBlIjogImludDY0IiwgIm1ldGFkYXRhIjogbnVsbH0sIHsi'\n                  b'bmFtZSI6ICJzdG9yZV9jb3VudCIsICJmaWVsZF9uYW1lIjogInN0b3Jl'\n                  b'X2NvdW50IiwgInBhbmRhc190eXBlIjogImludDY0IiwgIm51bXB5X3R5'\n                  b'cGUiOiAiaW50NjQiLCAibWV0YWRhdGEiOiBudWxsfSwgeyJuYW1lIjog'\n                  b'Imdyb3NzX3NhbGVzIiwgImZpZWxkX25hbWUiOiAiZ3Jvc3Nfc2FsZXMi'\n                  b'LCAicGFuZGFzX3R5cGUiOiAiZmxvYXQ2NCIsICJudW1weV90eXBlIjog'\n                  b'ImZsb2F0NjQiLCAibWV0YWRhdGEiOiBudWxsfSwgeyJuYW1lIjogbnVs'\n                  b'bCwgImZpZWxkX25hbWUiOiAiX19pbmRleF9sZXZlbF8wX18iLCAicGFu'\n                  b'ZGFzX3R5cGUiOiAiaW50NjQiLCAibnVtcHlfdHlwZSI6ICJpbnQ2NCIs'\n                  b'ICJtZXRhZGF0YSI6IG51bGx9XSwgImNyZWF0b3IiOiB7ImxpYnJhcnki'\n                  b'OiAicHlhcnJvdyIsICJ2ZXJzaW9uIjogIjUuMC4wIn0sICJwYW5kYXNf'\n                  b'dmVyc2lvbiI6ICIxLjMuMyJ9AAAAAAUAAAAAAQAAsAAAAHgAAABEAAAA'\n                  b'BAAAACT///8AAAECEAAAACQAAAAEAAAAAAAAABEAAABfX2luZGV4X2xl'\n                  b'dmVsXzBfXwAAAGj///8AAAABQAAAAGD///8AAAEDEAAAABwAAAAEAAAA'\n                  b'AAAAAAsAAABncm9zc19zYWxlcwBO////AAACAJD///8AAAECEAAAABwA'\n                  b'AAAEAAAAAAAAAAsAAABzdG9yZV9jb3VudADM////AAAAAUAAAADE////'\n                  b'AAABAhAAAAAkAAAABAAAAAAAAAAJAAAAbnVtX3RyYW5zAAAACAAMAAgA'\n                  b'BwAIAAAAAAAAAUAAAAAQABQACAAGAAcADAAAABAAEAAAAAAAAQoQAAAA'\n                  b'JAAAAAQAAAAAAAAACwAAAHBvc19idXNuX2R0AAAABgAIAAYABgAAAAAA'\n                  b'AwA=',\n b'pandas': b'{\"index_columns\": [\"__index_level_0__\"], \"column_indexes\": [{\"na'\n            b'me\": null, \"field_name\": null, \"pandas_type\": \"unicode\", \"numpy_'\n            b'type\": \"object\", \"metadata\": {\"encoding\": \"UTF-8\"}}], \"columns\":'\n            b' [{\"name\": \"pos_busn_dt\", \"field_name\": \"pos_busn_dt\", \"pandas_t'\n            b'ype\": \"datetime\", \"numpy_type\": \"datetime64[ns]\", \"metadata\": nu'\n            b'll}, {\"name\": \"num_trans\", \"field_name\": \"num_trans\", \"pandas_ty'\n            b'pe\": \"int64\", \"numpy_type\": \"int64\", \"metadata\": null}, {\"name\":'\n            b' \"store_count\", \"field_name\": \"store_count\", \"pandas_type\": \"int'\n            b'64\", \"numpy_type\": \"int64\", \"metadata\": null}, {\"name\": \"gross_s'\n            b'ales\", \"field_name\": \"gross_sales\", \"pandas_type\": \"float64\", \"n'\n            b'umpy_type\": \"float64\", \"metadata\": null}, {\"name\": null, \"field_'\n            b'name\": \"__index_level_0__\", \"pandas_type\": \"int64\", \"numpy_type\"'\n            b': \"int64\", \"metadata\": null}], \"creator\": {\"library\": \"pyarrow\",'\n            b' \"version\": \"5.0.0\"}, \"pandas_version\": \"1.3.3\"}'}",
     "output_type": "error",
     "traceback": [
      "\u001b[0;31m---------------------------------------------------------------------------\u001b[0m",
      "\u001b[0;31mValueError\u001b[0m                                Traceback (most recent call last)",
      "\u001b[0;32m<ipython-input-23-29c83958743d>\u001b[0m in \u001b[0;36m<module>\u001b[0;34m\u001b[0m\n\u001b[0;32m----> 1\u001b[0;31m \u001b[0mpd\u001b[0m\u001b[0;34m.\u001b[0m\u001b[0mread_parquet\u001b[0m\u001b[0;34m(\u001b[0m\u001b[0;34m'/opt/sasdata/dev/PricingEngines/DiscountEngines/Russia/data/processed/company_wise_dv/offline/day_level/company=mcopco/'\u001b[0m\u001b[0;34m)\u001b[0m\u001b[0;34m\u001b[0m\u001b[0;34m\u001b[0m\u001b[0m\n\u001b[0m",
      "\u001b[0;32m~/miniconda3/envs/mcdrus-de-dev/lib/python3.8/site-packages/pandas/io/parquet.py\u001b[0m in \u001b[0;36mread_parquet\u001b[0;34m(path, engine, columns, **kwargs)\u001b[0m\n\u001b[1;32m    310\u001b[0m \u001b[0;34m\u001b[0m\u001b[0m\n\u001b[1;32m    311\u001b[0m     \u001b[0mimpl\u001b[0m \u001b[0;34m=\u001b[0m \u001b[0mget_engine\u001b[0m\u001b[0;34m(\u001b[0m\u001b[0mengine\u001b[0m\u001b[0;34m)\u001b[0m\u001b[0;34m\u001b[0m\u001b[0;34m\u001b[0m\u001b[0m\n\u001b[0;32m--> 312\u001b[0;31m     \u001b[0;32mreturn\u001b[0m \u001b[0mimpl\u001b[0m\u001b[0;34m.\u001b[0m\u001b[0mread\u001b[0m\u001b[0;34m(\u001b[0m\u001b[0mpath\u001b[0m\u001b[0;34m,\u001b[0m \u001b[0mcolumns\u001b[0m\u001b[0;34m=\u001b[0m\u001b[0mcolumns\u001b[0m\u001b[0;34m,\u001b[0m \u001b[0;34m**\u001b[0m\u001b[0mkwargs\u001b[0m\u001b[0;34m)\u001b[0m\u001b[0;34m\u001b[0m\u001b[0;34m\u001b[0m\u001b[0m\n\u001b[0m",
      "\u001b[0;32m~/miniconda3/envs/mcdrus-de-dev/lib/python3.8/site-packages/pandas/io/parquet.py\u001b[0m in \u001b[0;36mread\u001b[0;34m(self, path, columns, **kwargs)\u001b[0m\n\u001b[1;32m    124\u001b[0m \u001b[0;34m\u001b[0m\u001b[0m\n\u001b[1;32m    125\u001b[0m         \u001b[0mkwargs\u001b[0m\u001b[0;34m[\u001b[0m\u001b[0;34m\"use_pandas_metadata\"\u001b[0m\u001b[0;34m]\u001b[0m \u001b[0;34m=\u001b[0m \u001b[0;32mTrue\u001b[0m\u001b[0;34m\u001b[0m\u001b[0;34m\u001b[0m\u001b[0m\n\u001b[0;32m--> 126\u001b[0;31m         result = self.api.parquet.read_table(\n\u001b[0m\u001b[1;32m    127\u001b[0m             \u001b[0mpath\u001b[0m\u001b[0;34m,\u001b[0m \u001b[0mcolumns\u001b[0m\u001b[0;34m=\u001b[0m\u001b[0mcolumns\u001b[0m\u001b[0;34m,\u001b[0m \u001b[0;34m**\u001b[0m\u001b[0mkwargs\u001b[0m\u001b[0;34m\u001b[0m\u001b[0;34m\u001b[0m\u001b[0m\n\u001b[1;32m    128\u001b[0m         ).to_pandas()\n",
      "\u001b[0;32m~/miniconda3/envs/mcdrus-de-dev/lib/python3.8/site-packages/pyarrow/parquet.py\u001b[0m in \u001b[0;36mread_table\u001b[0;34m(source, columns, use_threads, metadata, use_pandas_metadata, memory_map, read_dictionary, filesystem, filters, buffer_size)\u001b[0m\n\u001b[1;32m   1269\u001b[0m                buffer_size=0):\n\u001b[1;32m   1270\u001b[0m     \u001b[0;32mif\u001b[0m \u001b[0m_is_path_like\u001b[0m\u001b[0;34m(\u001b[0m\u001b[0msource\u001b[0m\u001b[0;34m)\u001b[0m\u001b[0;34m:\u001b[0m\u001b[0;34m\u001b[0m\u001b[0;34m\u001b[0m\u001b[0m\n\u001b[0;32m-> 1271\u001b[0;31m         pf = ParquetDataset(source, metadata=metadata, memory_map=memory_map,\n\u001b[0m\u001b[1;32m   1272\u001b[0m                             \u001b[0mread_dictionary\u001b[0m\u001b[0;34m=\u001b[0m\u001b[0mread_dictionary\u001b[0m\u001b[0;34m,\u001b[0m\u001b[0;34m\u001b[0m\u001b[0;34m\u001b[0m\u001b[0m\n\u001b[1;32m   1273\u001b[0m                             \u001b[0mbuffer_size\u001b[0m\u001b[0;34m=\u001b[0m\u001b[0mbuffer_size\u001b[0m\u001b[0;34m,\u001b[0m\u001b[0;34m\u001b[0m\u001b[0;34m\u001b[0m\u001b[0m\n",
      "\u001b[0;32m~/miniconda3/envs/mcdrus-de-dev/lib/python3.8/site-packages/pyarrow/parquet.py\u001b[0m in \u001b[0;36m__init__\u001b[0;34m(self, path_or_paths, filesystem, schema, metadata, split_row_groups, validate_schema, filters, metadata_nthreads, read_dictionary, memory_map, buffer_size)\u001b[0m\n\u001b[1;32m   1058\u001b[0m \u001b[0;34m\u001b[0m\u001b[0m\n\u001b[1;32m   1059\u001b[0m         \u001b[0;32mif\u001b[0m \u001b[0mvalidate_schema\u001b[0m\u001b[0;34m:\u001b[0m\u001b[0;34m\u001b[0m\u001b[0;34m\u001b[0m\u001b[0m\n\u001b[0;32m-> 1060\u001b[0;31m             \u001b[0mself\u001b[0m\u001b[0;34m.\u001b[0m\u001b[0mvalidate_schemas\u001b[0m\u001b[0;34m(\u001b[0m\u001b[0;34m)\u001b[0m\u001b[0;34m\u001b[0m\u001b[0;34m\u001b[0m\u001b[0m\n\u001b[0m\u001b[1;32m   1061\u001b[0m \u001b[0;34m\u001b[0m\u001b[0m\n\u001b[1;32m   1062\u001b[0m     \u001b[0;32mdef\u001b[0m \u001b[0mequals\u001b[0m\u001b[0;34m(\u001b[0m\u001b[0mself\u001b[0m\u001b[0;34m,\u001b[0m \u001b[0mother\u001b[0m\u001b[0;34m)\u001b[0m\u001b[0;34m:\u001b[0m\u001b[0;34m\u001b[0m\u001b[0;34m\u001b[0m\u001b[0m\n",
      "\u001b[0;32m~/miniconda3/envs/mcdrus-de-dev/lib/python3.8/site-packages/pyarrow/parquet.py\u001b[0m in \u001b[0;36mvalidate_schemas\u001b[0;34m(self)\u001b[0m\n\u001b[1;32m   1108\u001b[0m             \u001b[0mfile_schema\u001b[0m \u001b[0;34m=\u001b[0m \u001b[0mfile_metadata\u001b[0m\u001b[0;34m.\u001b[0m\u001b[0mschema\u001b[0m\u001b[0;34m.\u001b[0m\u001b[0mto_arrow_schema\u001b[0m\u001b[0;34m(\u001b[0m\u001b[0;34m)\u001b[0m\u001b[0;34m\u001b[0m\u001b[0;34m\u001b[0m\u001b[0m\n\u001b[1;32m   1109\u001b[0m             \u001b[0;32mif\u001b[0m \u001b[0;32mnot\u001b[0m \u001b[0mdataset_schema\u001b[0m\u001b[0;34m.\u001b[0m\u001b[0mequals\u001b[0m\u001b[0;34m(\u001b[0m\u001b[0mfile_schema\u001b[0m\u001b[0;34m,\u001b[0m \u001b[0mcheck_metadata\u001b[0m\u001b[0;34m=\u001b[0m\u001b[0;32mFalse\u001b[0m\u001b[0;34m)\u001b[0m\u001b[0;34m:\u001b[0m\u001b[0;34m\u001b[0m\u001b[0;34m\u001b[0m\u001b[0m\n\u001b[0;32m-> 1110\u001b[0;31m                 raise ValueError('Schema in {0!s} was different. \\n'\n\u001b[0m\u001b[1;32m   1111\u001b[0m                                  \u001b[0;34m'{1!s}\\n\\nvs\\n\\n{2!s}'\u001b[0m\u001b[0;34m\u001b[0m\u001b[0;34m\u001b[0m\u001b[0m\n\u001b[1;32m   1112\u001b[0m                                  .format(piece, file_schema,\n",
      "\u001b[0;31mValueError\u001b[0m: Schema in partition[monthid=44] /opt/sasdata/dev/PricingEngines/DiscountEngines/Russia/data/processed/company_wise_dv/offline/day_level/company=mcopco//monthid=202109/dda3e1742c0644beafcf3d386d3ce98b.parquet was different. \npos_busn_dt: timestamp[ms]\nnum_trans: int64\nmetadata\n--------\n{b'ARROW:schema': b'/////3gCAAAQAAAAAAAKAA4ABgAFAAgACgAAAAABAwAQAAAAAAAKAAwA'\n                  b'AAAEAAgACgAAALgBAAAEAAAAAQAAAAwAAAAIAAwABAAIAAgAAAAIAAAA'\n                  b'EAAAAAYAAABwYW5kYXMAAIEBAAB7ImluZGV4X2NvbHVtbnMiOiBbXSwg'\n                  b'ImNvbHVtbl9pbmRleGVzIjogW10sICJjb2x1bW5zIjogW3sibmFtZSI6'\n                  b'ICJwb3NfYnVzbl9kdCIsICJmaWVsZF9uYW1lIjogInBvc19idXNuX2R0'\n                  b'IiwgInBhbmRhc190eXBlIjogImRhdGV0aW1lIiwgIm51bXB5X3R5cGUi'\n                  b'OiAiZGF0ZXRpbWU2NFtuc10iLCAibWV0YWRhdGEiOiBudWxsfSwgeyJu'\n                  b'YW1lIjogIm51bV90cmFucyIsICJmaWVsZF9uYW1lIjogIm51bV90cmFu'\n                  b'cyIsICJwYW5kYXNfdHlwZSI6ICJpbnQ2NCIsICJudW1weV90eXBlIjog'\n                  b'ImludDY0IiwgIm1ldGFkYXRhIjogbnVsbH1dLCAiY3JlYXRvciI6IHsi'\n                  b'bGlicmFyeSI6ICJweWFycm93IiwgInZlcnNpb24iOiAiMC4xNS4xIn0s'\n                  b'ICJwYW5kYXNfdmVyc2lvbiI6ICIxLjAuNSJ9AAAAAgAAAFQAAAAEAAAA'\n                  b'xP///wAAAQIkAAAAFAAAAAQAAAAAAAAACAAMAAgABwAIAAAAAAAAAUAA'\n                  b'AAAJAAAAbnVtX3RyYW5zAAAAEAAUAAgABgAHAAwAAAAQABAAAAAAAAEK'\n                  b'IAAAABQAAAAEAAAAAAAAAAAABgAIAAYABgAAAAAAAwALAAAAcG9zX2J1'\n                  b'c25fZHQAAAAAAA==',\n b'pandas': b'{\"index_columns\": [], \"column_indexes\": [], \"columns\": [{\"name\":'\n            b' \"pos_busn_dt\", \"field_name\": \"pos_busn_dt\", \"pandas_type\": \"dat'\n            b'etime\", \"numpy_type\": \"datetime64[ns]\", \"metadata\": null}, {\"nam'\n            b'e\": \"num_trans\", \"field_name\": \"num_trans\", \"pandas_type\": \"int6'\n            b'4\", \"numpy_type\": \"int64\", \"metadata\": null}], \"creator\": {\"libr'\n            b'ary\": \"pyarrow\", \"version\": \"0.15.1\"}, \"pandas_version\": \"1.0.5\"'\n            b'}'}\n\nvs\n\npos_busn_dt: timestamp[us]\nnum_trans: int64\nstore_count: int64\ngross_sales: double\n__index_level_0__: int64\nmetadata\n--------\n{b'ARROW:schema': b'/////xAFAAAQAAAAAAAKAA4ABgAFAAgACgAAAAABBAAQAAAAAAAKAAwA'\n                  b'AAAEAAgACgAAAKgDAAAEAAAAAQAAAAwAAAAIAAwABAAIAAgAAAAIAAAA'\n                  b'EAAAAAYAAABwYW5kYXMAAHADAAB7ImluZGV4X2NvbHVtbnMiOiBbIl9f'\n                  b'aW5kZXhfbGV2ZWxfMF9fIl0sICJjb2x1bW5faW5kZXhlcyI6IFt7Im5h'\n                  b'bWUiOiBudWxsLCAiZmllbGRfbmFtZSI6IG51bGwsICJwYW5kYXNfdHlw'\n                  b'ZSI6ICJ1bmljb2RlIiwgIm51bXB5X3R5cGUiOiAib2JqZWN0IiwgIm1l'\n                  b'dGFkYXRhIjogeyJlbmNvZGluZyI6ICJVVEYtOCJ9fV0sICJjb2x1bW5z'\n                  b'IjogW3sibmFtZSI6ICJwb3NfYnVzbl9kdCIsICJmaWVsZF9uYW1lIjog'\n                  b'InBvc19idXNuX2R0IiwgInBhbmRhc190eXBlIjogImRhdGV0aW1lIiwg'\n                  b'Im51bXB5X3R5cGUiOiAiZGF0ZXRpbWU2NFtuc10iLCAibWV0YWRhdGEi'\n                  b'OiBudWxsfSwgeyJuYW1lIjogIm51bV90cmFucyIsICJmaWVsZF9uYW1l'\n                  b'IjogIm51bV90cmFucyIsICJwYW5kYXNfdHlwZSI6ICJpbnQ2NCIsICJu'\n                  b'dW1weV90eXBlIjogImludDY0IiwgIm1ldGFkYXRhIjogbnVsbH0sIHsi'\n                  b'bmFtZSI6ICJzdG9yZV9jb3VudCIsICJmaWVsZF9uYW1lIjogInN0b3Jl'\n                  b'X2NvdW50IiwgInBhbmRhc190eXBlIjogImludDY0IiwgIm51bXB5X3R5'\n                  b'cGUiOiAiaW50NjQiLCAibWV0YWRhdGEiOiBudWxsfSwgeyJuYW1lIjog'\n                  b'Imdyb3NzX3NhbGVzIiwgImZpZWxkX25hbWUiOiAiZ3Jvc3Nfc2FsZXMi'\n                  b'LCAicGFuZGFzX3R5cGUiOiAiZmxvYXQ2NCIsICJudW1weV90eXBlIjog'\n                  b'ImZsb2F0NjQiLCAibWV0YWRhdGEiOiBudWxsfSwgeyJuYW1lIjogbnVs'\n                  b'bCwgImZpZWxkX25hbWUiOiAiX19pbmRleF9sZXZlbF8wX18iLCAicGFu'\n                  b'ZGFzX3R5cGUiOiAiaW50NjQiLCAibnVtcHlfdHlwZSI6ICJpbnQ2NCIs'\n                  b'ICJtZXRhZGF0YSI6IG51bGx9XSwgImNyZWF0b3IiOiB7ImxpYnJhcnki'\n                  b'OiAicHlhcnJvdyIsICJ2ZXJzaW9uIjogIjUuMC4wIn0sICJwYW5kYXNf'\n                  b'dmVyc2lvbiI6ICIxLjMuMyJ9AAAAAAUAAAAAAQAAsAAAAHgAAABEAAAA'\n                  b'BAAAACT///8AAAECEAAAACQAAAAEAAAAAAAAABEAAABfX2luZGV4X2xl'\n                  b'dmVsXzBfXwAAAGj///8AAAABQAAAAGD///8AAAEDEAAAABwAAAAEAAAA'\n                  b'AAAAAAsAAABncm9zc19zYWxlcwBO////AAACAJD///8AAAECEAAAABwA'\n                  b'AAAEAAAAAAAAAAsAAABzdG9yZV9jb3VudADM////AAAAAUAAAADE////'\n                  b'AAABAhAAAAAkAAAABAAAAAAAAAAJAAAAbnVtX3RyYW5zAAAACAAMAAgA'\n                  b'BwAIAAAAAAAAAUAAAAAQABQACAAGAAcADAAAABAAEAAAAAAAAQoQAAAA'\n                  b'JAAAAAQAAAAAAAAACwAAAHBvc19idXNuX2R0AAAABgAIAAYABgAAAAAA'\n                  b'AwA=',\n b'pandas': b'{\"index_columns\": [\"__index_level_0__\"], \"column_indexes\": [{\"na'\n            b'me\": null, \"field_name\": null, \"pandas_type\": \"unicode\", \"numpy_'\n            b'type\": \"object\", \"metadata\": {\"encoding\": \"UTF-8\"}}], \"columns\":'\n            b' [{\"name\": \"pos_busn_dt\", \"field_name\": \"pos_busn_dt\", \"pandas_t'\n            b'ype\": \"datetime\", \"numpy_type\": \"datetime64[ns]\", \"metadata\": nu'\n            b'll}, {\"name\": \"num_trans\", \"field_name\": \"num_trans\", \"pandas_ty'\n            b'pe\": \"int64\", \"numpy_type\": \"int64\", \"metadata\": null}, {\"name\":'\n            b' \"store_count\", \"field_name\": \"store_count\", \"pandas_type\": \"int'\n            b'64\", \"numpy_type\": \"int64\", \"metadata\": null}, {\"name\": \"gross_s'\n            b'ales\", \"field_name\": \"gross_sales\", \"pandas_type\": \"float64\", \"n'\n            b'umpy_type\": \"float64\", \"metadata\": null}, {\"name\": null, \"field_'\n            b'name\": \"__index_level_0__\", \"pandas_type\": \"int64\", \"numpy_type\"'\n            b': \"int64\", \"metadata\": null}], \"creator\": {\"library\": \"pyarrow\",'\n            b' \"version\": \"5.0.0\"}, \"pandas_version\": \"1.3.3\"}'}"
     ]
    }
   ],
   "source": [
    "pd.read_parquet('/opt/sasdata/dev/PricingEngines/DiscountEngines/Russia/data/processed/company_wise_dv/offline/day_level/company=mcopco/')"
   ]
  },
  {
   "cell_type": "code",
   "execution_count": null,
   "metadata": {},
   "outputs": [],
   "source": []
  }
 ],
 "metadata": {
  "kernelspec": {
   "display_name": "Python 3",
   "language": "python",
   "name": "python3"
  },
  "language_info": {
   "codemirror_mode": {
    "name": "ipython",
    "version": 3
   },
   "file_extension": ".py",
   "mimetype": "text/x-python",
   "name": "python",
   "nbconvert_exporter": "python",
   "pygments_lexer": "ipython3",
   "version": "3.8.10"
  }
 },
 "nbformat": 4,
 "nbformat_minor": 4
}
