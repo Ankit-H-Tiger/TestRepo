{
 "cells": [
  {
   "cell_type": "code",
   "execution_count": 2,
   "id": "0b6744f5",
   "metadata": {},
   "outputs": [],
   "source": [
    "%load_ext autoreload\n",
    "%autoreload 2"
   ]
  },
  {
   "cell_type": "code",
   "execution_count": 3,
   "id": "dc222a82",
   "metadata": {},
   "outputs": [],
   "source": [
    "# Importing required packages\n",
    "import pandas as pd\n",
    "import numpy as np\n",
    "\n",
    "import os\n",
    "import gc\n",
    "\n",
    "\n",
    "# import ipywidgets as widgets\n",
    "import warnings\n",
    "warnings.filterwarnings(\"ignore\")"
   ]
  },
  {
   "cell_type": "code",
   "execution_count": 16,
   "id": "2ad813c3",
   "metadata": {},
   "outputs": [],
   "source": [
    "# from ta_lib.core.api import load_yml, create_context,_change_permissions_recursive"
   ]
  },
  {
   "cell_type": "code",
   "execution_count": 7,
   "id": "539d5745",
   "metadata": {},
   "outputs": [],
   "source": [
    "# Defining configs\n",
    "config_path = '../conf/config.yml'\n",
    "config = create_context(config_path)\n",
    "cfg = config.offline"
   ]
  },
  {
   "cell_type": "code",
   "execution_count": null,
   "id": "140444f8",
   "metadata": {},
   "outputs": [],
   "source": [
    "seg_qty = Z:\\dev\\PricingEngines\\Engine\\DiscountEngines\\Russia\\data\\processed\\digital\\segmentation_quantity_company\\grouped"
   ]
  },
  {
   "cell_type": "code",
   "execution_count": 46,
   "id": "e30c91b3",
   "metadata": {},
   "outputs": [],
   "source": [
    "item_master = pd.read_csv(cfg['ITEM_MASTER'].format(**cfg))"
   ]
  },
  {
   "cell_type": "code",
   "execution_count": 47,
   "id": "a7ca1aec",
   "metadata": {},
   "outputs": [],
   "source": [
    "df_dig_promo_fun = pd.read_excel(cfg['DIGITAL_OFFER_FUNNEL'].format(**cfg))"
   ]
  },
  {
   "cell_type": "code",
   "execution_count": 48,
   "id": "726fa46a",
   "metadata": {},
   "outputs": [],
   "source": [
    "item_group = dict(zip(item_master.Group_id, item_master['Product Group']))"
   ]
  },
  {
   "cell_type": "code",
   "execution_count": 49,
   "id": "e28316c0",
   "metadata": {},
   "outputs": [],
   "source": [
    "# item_group"
   ]
  },
  {
   "cell_type": "code",
   "execution_count": 50,
   "id": "bf33e6b3",
   "metadata": {
    "scrolled": true
   },
   "outputs": [
    {
     "data": {
      "text/plain": [
       "Index(['offer_id', 'sld_menu_itm_id', 'product_price', 'products_quantity',\n",
       "       'discount_dimension', 'Product Groupings', 'name from excel cal',\n",
       "       'min_date', 'max_date', 'Group_id', 'Name', 'child_item_flag',\n",
       "       'Product Group', 'day_part'],\n",
       "      dtype='object')"
      ]
     },
     "execution_count": 50,
     "metadata": {},
     "output_type": "execute_result"
    }
   ],
   "source": [
    "df_dig_promo_fun.columns"
   ]
  },
  {
   "cell_type": "code",
   "execution_count": 51,
   "id": "f19817c1",
   "metadata": {},
   "outputs": [],
   "source": [
    "offer_grp_map = df_dig_promo_fun.groupby(['offer_id','Product Groupings']).size().reset_index()"
   ]
  },
  {
   "cell_type": "code",
   "execution_count": 62,
   "id": "88d3cde2",
   "metadata": {},
   "outputs": [],
   "source": [
    "seg_disc_path = '/opt/sasdata/dev/PricingEngines/Engine/DiscountEngines/Russia/data/processed/digital/segmentation_discount_qty/company=mcopco/'\n",
    "seg_qty_path = '/opt/sasdata/dev/PricingEngines/Engine/DiscountEngines/Russia/data/processed/digital/segmentation_quantity_company/grouped/'"
   ]
  },
  {
   "cell_type": "code",
   "execution_count": 56,
   "id": "09423ca6",
   "metadata": {},
   "outputs": [],
   "source": [
    "df_seg_disc = pd.read_parquet(seg_disc_path)\n",
    "\n",
    "# df_promo_disc = df_seg_disc.groupby([\"sld_menu_itm_id\",\"pos_busn_dt\",\"offer_id\"]).pos_itm_dsc_qt.sum().reset_index()\n",
    "\n",
    "df_seg_disc = df_seg_disc.merge(offer_grp_map[['offer_id','Product Groupings']], on= ['offer_id'], how = 'left')\n",
    "\n",
    "df_seg_disc['Product Group'] = df_seg_disc.sld_menu_itm_id.map(item_group)\n",
    "\n",
    "df_seg_disc.drop(['pos_itm_dsc_amt','cutoff'], axis = 1, inplace = True)"
   ]
  },
  {
   "cell_type": "code",
   "execution_count": 61,
   "id": "eeac5728",
   "metadata": {},
   "outputs": [],
   "source": [
    "df_seg_disc.to_excel(\"segment_discount_qty.xlsx\", index = False)"
   ]
  },
  {
   "cell_type": "code",
   "execution_count": 63,
   "id": "8aa8a6f9",
   "metadata": {},
   "outputs": [],
   "source": [
    "df_seg_qty = pd.read_parquet(seg_qty_path)"
   ]
  },
  {
   "cell_type": "code",
   "execution_count": null,
   "id": "556d3e8c",
   "metadata": {},
   "outputs": [],
   "source": [
    "df_seg_qty.to_parquet(\"segment_level_qty.parquet\")"
   ]
  },
  {
   "cell_type": "code",
   "execution_count": null,
   "id": "6309c957",
   "metadata": {},
   "outputs": [],
   "source": [
    "df_seg_qty[df_seg_qty.company == 'mcopco']"
   ]
  }
 ],
 "metadata": {
  "kernelspec": {
   "display_name": "Python 3",
   "language": "python",
   "name": "python3"
  },
  "language_info": {
   "codemirror_mode": {
    "name": "ipython",
    "version": 3
   },
   "file_extension": ".py",
   "mimetype": "text/x-python",
   "name": "python",
   "nbconvert_exporter": "python",
   "pygments_lexer": "ipython3",
   "version": "3.8.10"
  }
 },
 "nbformat": 4,
 "nbformat_minor": 5
}
