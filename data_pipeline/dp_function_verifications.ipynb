{
 "cells": [
  {
   "cell_type": "code",
   "execution_count": 1,
   "id": "fb8c3cdd",
   "metadata": {},
   "outputs": [],
   "source": [
    "%load_ext autoreload\n",
    "%autoreload 2"
   ]
  },
  {
   "cell_type": "code",
   "execution_count": 2,
   "id": "c917de08",
   "metadata": {},
   "outputs": [
    {
     "name": "stderr",
     "output_type": "stream",
     "text": [
      "WARNING:param.main: pandas could not register all extension types imports failed with the following error: cannot import name 'ABCIndexClass' from 'pandas.core.dtypes.generic' (/home/mc77916/.conda/envs/mcd-de-dev/lib/python3.8/site-packages/pandas/core/dtypes/generic.py)\n"
     ]
    }
   ],
   "source": [
    "# Importing required packages\n",
    "\n",
    "import pandas as pd\n",
    "import os\n",
    "import gc\n",
    "\n",
    "import dask.dataframe as dd\n",
    "\n",
    "from ta_lib.data_utils.data_processing import get_aggregated_data\n",
    "from ta_lib.core.api import load_yml, create_context"
   ]
  },
  {
   "cell_type": "code",
   "execution_count": null,
   "id": "d4224e19",
   "metadata": {},
   "outputs": [],
   "source": [
    "#~/[your_conda_env_path]/lib/site-packages/visions/dtypes/boolean.py"
   ]
  },
  {
   "cell_type": "code",
   "execution_count": null,
   "id": "6584fd5b",
   "metadata": {},
   "outputs": [],
   "source": [
    "# Defining configs\n",
    "\n",
    "config_path = '../conf/config.yml'\n",
    "cfg = create_context(config_path)\n"
   ]
  },
  {
   "cell_type": "code",
   "execution_count": null,
   "id": "431e5fc6",
   "metadata": {},
   "outputs": [],
   "source": [
    "st_date = '2020-05-01'\n",
    "en_date = '2020-05-01'"
   ]
  },
  {
   "cell_type": "code",
   "execution_count": null,
   "id": "b7142f2d",
   "metadata": {},
   "outputs": [],
   "source": []
  },
  {
   "cell_type": "markdown",
   "id": "64ad6d20",
   "metadata": {},
   "source": [
    "# Gc from trn verification"
   ]
  },
  {
   "cell_type": "code",
   "execution_count": null,
   "id": "cbe68ed8",
   "metadata": {},
   "outputs": [],
   "source": [
    "#get_aggregated_data.get_gc_from_trn(cfg.offline, grouping=True, result_filter='all', st_dt=st_date, en_dt=en_date)\n",
    "\n",
    "# Verifying data\n",
    "ch_path = '/home/mc77916/data/processed/{type_}/grouped/item_level/'\n",
    "bas_path = '/opt/sasdata/dev/PricingEngines/DiscountEngines/Russia/data/processed/{type_}/grouped/item_level/'\n",
    "\n",
    "for ty in ['offline', 'digital', 'overall'] :\n",
    "    print(ch_path.format(type_=ty))\n",
    "    \n",
    "    check_data = pd.read_parquet(ch_path.format(type_=ty))\n",
    "    base_data = pd.read_parquet(bas_path.format(type_=ty))\n",
    "    \n",
    "    base_data = base_data[(base_data['pos_busn_dt'] >= st_date) & (base_data['pos_busn_dt'] <= en_date)]\n",
    "\n",
    "    base_sum = base_data['num_trans'].sum()\n",
    "    ch_sum = check_data['num_trans'].sum()\n",
    "    print( base_sum, ch_sum, check_data.shape[0], base_data.shape[0] , 'Grouped GC ver for ', ty)"
   ]
  },
  {
   "cell_type": "code",
   "execution_count": null,
   "id": "516aab0a",
   "metadata": {},
   "outputs": [],
   "source": []
  },
  {
   "cell_type": "code",
   "execution_count": null,
   "id": "522e6f93",
   "metadata": {},
   "outputs": [],
   "source": [
    "get_aggregated_data.get_gc_from_trn(cfg.offline, grouping=False, result_filter='all', st_dt=st_date, en_dt=en_date)\n",
    "\n",
    "# Result :  -> Confirmed"
   ]
  },
  {
   "cell_type": "code",
   "execution_count": null,
   "id": "759484b5",
   "metadata": {},
   "outputs": [],
   "source": []
  }
 ],
 "metadata": {
  "kernelspec": {
   "display_name": "Python 3",
   "language": "python",
   "name": "python3"
  },
  "language_info": {
   "codemirror_mode": {
    "name": "ipython",
    "version": 3
   },
   "file_extension": ".py",
   "mimetype": "text/x-python",
   "name": "python",
   "nbconvert_exporter": "python",
   "pygments_lexer": "ipython3",
   "version": "3.8.10"
  }
 },
 "nbformat": 4,
 "nbformat_minor": 5
}
