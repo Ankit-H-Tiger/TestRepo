{
 "cells": [
  {
   "cell_type": "code",
   "execution_count": 1,
   "id": "1ac46884",
   "metadata": {},
   "outputs": [],
   "source": [
    "%load_ext autoreload\n",
    "%autoreload 2"
   ]
  },
  {
   "cell_type": "code",
<<<<<<< HEAD
   "execution_count": 2,
=======
   "execution_count": 3,
>>>>>>> 15697192b1443eced50cfb7b69f247b2a59bc28c
   "id": "7c861bd7",
   "metadata": {},
   "outputs": [
    {
     "name": "stderr",
     "output_type": "stream",
     "text": [
      "WARNING:param.main: pandas could not register all extension types imports failed with the following error: cannot import name 'ABCIndexClass' from 'pandas.core.dtypes.generic' (/home/mc77916/.conda/envs/mcd-de-dev/lib/python3.8/site-packages/pandas/core/dtypes/generic.py)\n"
     ]
    }
   ],
   "source": [
    "import pandas as pd\n",
    "from ta_lib.core.api import load_yml,create_context\n",
    "from ta_lib.data_utils import offline_constants\n",
    "from ta_lib.data_utils.data_processing.offline.baseprice import get_base_price,offer_depth\n",
    "import os"
   ]
  },
  {
   "cell_type": "code",
<<<<<<< HEAD
   "execution_count": 3,
=======
   "execution_count": 4,
>>>>>>> 15697192b1443eced50cfb7b69f247b2a59bc28c
   "id": "10a40d23",
   "metadata": {},
   "outputs": [],
   "source": [
    "config_path = '../conf/config.yml'\n",
    "cfg=create_context(config_path)"
   ]
  },
  {
   "cell_type": "code",
<<<<<<< HEAD
   "execution_count": 7,
   "id": "ceb082e0",
=======
   "execution_count": 4,
   "id": "e9f0d71b",
>>>>>>> 15697192b1443eced50cfb7b69f247b2a59bc28c
   "metadata": {},
   "outputs": [
    {
     "name": "stdout",
     "output_type": "stream",
     "text": [
      "Successfully read data  offline\n"
     ]
    },
    {
     "name": "stderr",
     "output_type": "stream",
     "text": [
<<<<<<< HEAD
      "/home/mc77916/.conda/envs/mcd-de-dev/lib/python3.8/site-packages/pandas/core/indexing.py:1817: SettingWithCopyWarning: \n",
=======
      "\n",
      "A value is trying to be set on a copy of a slice from a DataFrame\n",
      "\n",
      "See the caveats in the documentation: https://pandas.pydata.org/pandas-docs/stable/user_guide/indexing.html#returning-a-view-versus-a-copy\n",
      "\n",
>>>>>>> 15697192b1443eced50cfb7b69f247b2a59bc28c
      "A value is trying to be set on a copy of a slice from a DataFrame.\n",
      "Try using .loc[row_indexer,col_indexer] = value instead\n",
      "\n",
      "See the caveats in the documentation: https://pandas.pydata.org/pandas-docs/stable/user_guide/indexing.html#returning-a-view-versus-a-copy\n",
<<<<<<< HEAD
      "  self._setitem_single_column(loc, value, pi)\n",
      "/home/mc77916/.conda/envs/mcd-de-dev/lib/python3.8/site-packages/pandas/core/generic.py:6392: SettingWithCopyWarning: \n",
      "A value is trying to be set on a copy of a slice from a DataFrame\n",
=======
      "\n",
      "A value is trying to be set on a copy of a slice from a DataFrame.\n",
      "Try using .loc[row_indexer,col_indexer] = value instead\n",
      "\n",
      "See the caveats in the documentation: https://pandas.pydata.org/pandas-docs/stable/user_guide/indexing.html#returning-a-view-versus-a-copy\n",
      "\n",
      "A value is trying to be set on a copy of a slice from a DataFrame.\n",
      "Try using .loc[row_indexer,col_indexer] = value instead\n",
      "\n",
      "See the caveats in the documentation: https://pandas.pydata.org/pandas-docs/stable/user_guide/indexing.html#returning-a-view-versus-a-copy\n",
      "\n",
      "A value is trying to be set on a copy of a slice from a DataFrame.\n",
      "Try using .loc[row_indexer,col_indexer] = value instead\n",
>>>>>>> 15697192b1443eced50cfb7b69f247b2a59bc28c
      "\n",
      "See the caveats in the documentation: https://pandas.pydata.org/pandas-docs/stable/user_guide/indexing.html#returning-a-view-versus-a-copy\n",
      "  return self._update_inplace(result)\n"
     ]
    },
    {
     "name": "stdout",
     "output_type": "stream",
     "text": [
      "Imputed base price\n",
<<<<<<< HEAD
      "Saving file\n",
      "Done in  1221.6634738445282 sec\n"
     ]
    }
   ],
   "source": [
    "df_offline = get_base_price(cfg,[\"offline\"],True)"
   ]
  },
  {
   "cell_type": "code",
   "execution_count": 4,
   "id": "1c4078b0",
   "metadata": {},
   "outputs": [],
   "source": [
    "df_offline_depth = offer_depth(cfg,\"offline\",False)"
=======
      "Done in  35.54532718658447 sec\n"
     ]
    }
   ],
   "source": [
    "df_digital = get_base_price(cfg,[\"digital\"],False)"
   ]
  },
  {
   "cell_type": "code",
   "execution_count": 5,
   "id": "ceb082e0",
   "metadata": {},
   "outputs": [
    {
     "name": "stdout",
     "output_type": "stream",
     "text": [
      "Successfully read data  offline\n"
     ]
    },
    {
     "name": "stderr",
     "output_type": "stream",
     "text": [
      "\n",
      "A value is trying to be set on a copy of a slice from a DataFrame\n",
      "\n",
      "See the caveats in the documentation: https://pandas.pydata.org/pandas-docs/stable/user_guide/indexing.html#returning-a-view-versus-a-copy\n",
      "\n",
      "A value is trying to be set on a copy of a slice from a DataFrame.\n",
      "Try using .loc[row_indexer,col_indexer] = value instead\n",
      "\n",
      "See the caveats in the documentation: https://pandas.pydata.org/pandas-docs/stable/user_guide/indexing.html#returning-a-view-versus-a-copy\n",
      "\n",
      "A value is trying to be set on a copy of a slice from a DataFrame.\n",
      "Try using .loc[row_indexer,col_indexer] = value instead\n",
      "\n",
      "See the caveats in the documentation: https://pandas.pydata.org/pandas-docs/stable/user_guide/indexing.html#returning-a-view-versus-a-copy\n",
      "\n",
      "A value is trying to be set on a copy of a slice from a DataFrame.\n",
      "Try using .loc[row_indexer,col_indexer] = value instead\n",
      "\n",
      "See the caveats in the documentation: https://pandas.pydata.org/pandas-docs/stable/user_guide/indexing.html#returning-a-view-versus-a-copy\n",
      "\n",
      "A value is trying to be set on a copy of a slice from a DataFrame.\n",
      "Try using .loc[row_indexer,col_indexer] = value instead\n",
      "\n",
      "See the caveats in the documentation: https://pandas.pydata.org/pandas-docs/stable/user_guide/indexing.html#returning-a-view-versus-a-copy\n"
     ]
    },
    {
     "name": "stdout",
     "output_type": "stream",
     "text": [
      "Imputed base price\n",
      "Done in  422.89921522140503 sec\n"
     ]
    }
   ],
   "source": [
    "df_offline = get_base_price(cfg,[\"offline\"],False,depth=False)"
>>>>>>> 15697192b1443eced50cfb7b69f247b2a59bc28c
   ]
  },
  {
   "cell_type": "code",
<<<<<<< HEAD
   "execution_count": 11,
   "id": "f4cb6cad",
   "metadata": {},
   "outputs": [
    {
     "data": {
      "text/plain": [
       "271"
      ]
     },
     "execution_count": 11,
     "metadata": {},
     "output_type": "execute_result"
    }
   ],
   "source": [
    "df_offline_depth[df_offline_depth.base_price.isna()].sld_menu_itm_id.nunique()"
   ]
  },
  {
   "cell_type": "code",
   "execution_count": null,
   "id": "c7bc9c91",
   "metadata": {},
   "outputs": [],
   "source": []
=======
   "execution_count": 6,
   "id": "aefdfb04",
   "metadata": {},
   "outputs": [
    {
     "name": "stdout",
     "output_type": "stream",
     "text": [
      "Successfully read data  offline\n",
      "Imputed base price\n",
      "Done in  323.5716371536255 sec\n"
     ]
    }
   ],
   "source": [
    "df_offline_depth = get_base_price(cfg,[\"offline\"],False,depth=True)"
   ]
>>>>>>> 15697192b1443eced50cfb7b69f247b2a59bc28c
  }
 ],
 "metadata": {
  "kernelspec": {
   "display_name": "Python 3",
   "language": "python",
   "name": "python3"
  },
  "language_info": {
   "codemirror_mode": {
    "name": "ipython",
    "version": 3
   },
   "file_extension": ".py",
   "mimetype": "text/x-python",
   "name": "python",
   "nbconvert_exporter": "python",
   "pygments_lexer": "ipython3",
   "version": "3.8.10"
  }
 },
 "nbformat": 4,
 "nbformat_minor": 5
}
