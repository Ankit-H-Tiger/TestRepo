{
 "cells": [
  {
   "cell_type": "code",
   "execution_count": 1,
   "id": "100a89e5",
   "metadata": {},
   "outputs": [],
   "source": [
    "%load_ext autoreload\n",
    "%autoreload 2"
   ]
  },
  {
   "cell_type": "code",
   "execution_count": 2,
   "id": "6a24ea62",
   "metadata": {},
   "outputs": [
    {
     "name": "stderr",
     "output_type": "stream",
     "text": [
      "WARNING:param.main: pandas could not register all extension types imports failed with the following error: cannot import name 'ABCIndexClass' from 'pandas.core.dtypes.generic' (/home/mc77916/.conda/envs/mcd-de-dev/lib/python3.8/site-packages/pandas/core/dtypes/generic.py)\n"
     ]
    }
   ],
   "source": [
    "import pandas as pd\n",
    "from ta_lib.core.api import load_yml,create_context\n",
    "from ta_lib.data_utils import offline_constants\n",
    "from ta_lib.data_utils.data_processing.offline.baseprice import get_base_price\n",
    "import os"
   ]
  },
  {
   "cell_type": "code",
   "execution_count": 3,
   "id": "ca7f0088",
   "metadata": {},
   "outputs": [],
   "source": [
    "import pandas as pd\n",
    "import numpy as np\n",
    "import os\n",
    "import gc\n",
    "import datetime\n",
    "import time\n",
    "from ta_lib.core.api import _change_permissions_recursive"
   ]
  },
  {
   "cell_type": "code",
   "execution_count": 4,
   "id": "8e0fb92f",
   "metadata": {},
   "outputs": [],
   "source": [
    "config_path = '../conf/config.yml'\n",
    "cfg=create_context(config_path)"
   ]
  },
  {
   "cell_type": "code",
   "execution_count": 5,
   "id": "61a7576f",
   "metadata": {},
   "outputs": [],
   "source": [
    "# Defining Input paths\n",
    "offline_input_path = cfg.offline[\"OFFLINE_RAW\"].format(**cfg.offline)\n",
    "digital_input_path =cfg.offline[\"DIGITAL_TRNS\"].format(**cfg.offline)\n",
    "\n",
    "# Getting file list and initialising other variables\n",
    "file_list = [x for x in os.listdir(offline_input_path)]\n",
    "file_list.sort(reverse=True)\n",
    "\n",
    "grouper_cols = ['pos_busn_dt']"
   ]
  },
  {
   "cell_type": "code",
   "execution_count": 7,
   "id": "74dc7c24",
   "metadata": {},
   "outputs": [],
   "source": [
    "def get_rev_from_trn(cfg, grouping=True, result_filter='offline'):\n",
    "    df_rev = pd.DataFrame()\n",
    "    for file in file_list:\n",
    "        print(file)\n",
    "        # Loading dumped GDW data\n",
    "        st = time.time()\n",
    "        df = pd.read_parquet(offline_input_path + file + '/data.parquet')\n",
    "        df['sld_menu_itm_id'] = df['sld_menu_itm_id'].astype('int')\n",
    "        # compute Rev\n",
    "        alc_df = df[(df['cmbo_pren_sld_menu_itm_id'] == -1)].reset_index(drop=True)\n",
    "        cmbo_df = df[(df['cmbo_pren_sld_menu_itm_id'] != -1)].reset_index(drop=True)\n",
    "        cmbo_df[\"pos_itm_grss_am\"] = cmbo_df.groupby(['pos_busn_dt', \n",
    "                                  'mcd_gbal_lcat_id_nu',\n",
    "                                  'pos_ord_nu', \n",
    "                                  'cmbo_pren_sld_menu_itm_id'])[['pos_itm_grss_am']].transform(\"sum\")\n",
    "        cmbo_df = cmbo_df[cmbo_df['cmbo_pren_sld_menu_itm_id'] == cmbo_df['sld_menu_itm_id']]\n",
    "        df = pd.concat([alc_df, cmbo_df], axis=0).reset_index(drop=True)\n",
    "        # Loading digital trn data if exist and doing separate operations\n",
    "        digital_flag = 0\n",
    "        if os.path.exists(digital_input_path + file + '/'):\n",
    "\n",
    "            # Loading digital data\n",
    "            dig_df = pd.read_parquet(digital_input_path + file + '/part-0.parquet')[['pos_ord_nu', 'mcd_gbal_lcat_id_nu']]\n",
    "            dig_df['digital_flag'] = 1\n",
    "\n",
    "            # Merging digital data\n",
    "            df = df.merge(dig_df, on=['mcd_gbal_lcat_id_nu', 'pos_ord_nu'], how='left')\n",
    "\n",
    "            # Clearing space\n",
    "            del dig_df\n",
    "            digital_flag = 1\n",
    "        else :\n",
    "            df['digital_flag'] = np.NaN\n",
    "        df.digital_flag.fillna(0,inplace=True)\n",
    "        # Separating alc and Combo trns to get mode price\n",
    "        df = df.groupby(grouper_cols+[\"digital_flag\"]).pos_itm_grss_am.sum().reset_index()\n",
    "        df_rev = df_rev.append(df)\n",
    "        print(time.time()-st)\n",
    "    if \"offline\" in result_filter:\n",
    "        units_path = cfg.offline[\"UNITS\"].format(**cfg.offline,type_=\"offline\")\n",
    "        output_path = cfg.offline[\"REV\"].format(**cfg.offline,type_=\"offline\")\n",
    "        df = df_rev[df_rev.digital_flag==0]\n",
    "        df_units = pd.read_parquet(units_path)\n",
    "        df = df.merge(df_units,on=grouper_cols,how=\"left\")\n",
    "        df[\"check_value\"] = df[\"pos_itm_grss_rev\"]/df[\"quantity\"]\n",
    "        # create dir if doesn't exist \n",
    "        os.makedirs(output_path, exist_ok=True)\n",
    "        df.to_parquet(output_path, partition_cols=['sld_menu_itm_id', 'monthid'])\n",
    "        _change_permissions_recursive(output_path, 0o777)\n",
    "    if \"digital\" in result_filter:\n",
    "        units_path = cfg.offline[\"UNITS\"].format(**cfg.offline,type_=\"digital\")\n",
    "        output_path = cfg.offline[\"REV\"].format(**cfg.offline,type_=\"digital\")\n",
    "        df = df_rev[df_rev.digital_flag==1]\n",
    "        df_units = pd.read_parquet(units_path)\n",
    "        df = df.merge(df_units,on=grouper_cols,how=\"left\")\n",
    "        df[\"check_value\"] = df[\"pos_itm_grss_rev\"]/df[\"quantity\"]\n",
    "        # create dir if doesn't exist \n",
    "        os.makedirs(output_path, exist_ok=True)\n",
    "        df.to_parquet(output_path, partition_cols=['sld_menu_itm_id', 'monthid'])\n",
    "        _change_permissions_recursive(output_path, 0o777)"
   ]
  },
  {
   "cell_type": "code",
   "execution_count": 29,
   "id": "f8e3efa9",
   "metadata": {},
   "outputs": [],
   "source": [
    "if \"offline\" in \"offline\":\n",
    "    units_path = \"/opt/sasdata/dev/PricingEngines/DiscountEngines/Russia/data/processed/digital/day_level/\"\n",
    "    output_path = \"/opt/sasdata/dev/PricingEngines/DiscountEngines/Russia/data/processed/digital/grouped/day_level_rev/\"\n",
    "    df = df_rev[df_rev.digital_flag==0]\n",
    "# if \"digital\" in result_filter:\n",
    "#     units_path = cfg.offline[\"UNITS\"].format(**cfg.offline,type_=\"digital\")\n",
    "#     output_path = cfg.offline[\"REV\"].format(**cfg.offline,type_=\"digital\")\n",
    "#     df = df_rev[df_rev.digital_flag==0]\n",
    "df_units = pd.read_parquet(units_path)\n",
    "# df = df.merge(df_units,on=grouper_cols,how=\"left\")\n",
    "# df[\"check_value\"] = df[\"pos_itm_grss_rev\"]/df[\"quantity\"]\n",
    "# # create dir if doesn't exist \n",
    "# os.makedirs(output_path, exist_ok=True)\n",
    "# df.to_parquet(output_path, partition_cols=['sld_menu_itm_id', 'monthid'])\n",
    "# _change_permissions_recursive(output_path, 0o777)"
   ]
  },
  {
   "cell_type": "code",
   "execution_count": 6,
   "id": "5d902cdc",
   "metadata": {},
   "outputs": [
    {
     "name": "stdout",
     "output_type": "stream",
     "text": [
      "month_id=20210801\n",
      "181.89301133155823\n",
      "month_id=20210701\n",
      "166.51798748970032\n",
      "month_id=20210601\n",
      "162.0581967830658\n",
      "month_id=20210501\n",
      "170.3772087097168\n",
      "month_id=20210401\n",
      "154.07703304290771\n",
      "month_id=20210301\n",
      "146.6512393951416\n",
      "month_id=20210201\n",
      "118.29081273078918\n",
      "month_id=20210101\n",
      "125.8896255493164\n",
      "month_id=20201201\n",
      "124.26907205581665\n",
      "month_id=20201101\n",
      "112.75923180580139\n",
      "month_id=20201001\n",
      "218.2705602645874\n",
      "month_id=20200901\n",
      "135.26359605789185\n",
      "month_id=20200801\n",
      "129.9920370578766\n",
      "month_id=20200701\n",
      "116.09629845619202\n",
      "month_id=20200601\n",
      "95.25340986251831\n",
      "month_id=20200501\n",
      "67.5096127986908\n",
      "month_id=20200401\n",
      "48.61569356918335\n",
      "month_id=20200301\n",
      "100.65328454971313\n",
      "month_id=20200201\n",
      "60.59633541107178\n",
      "month_id=20200101\n",
      "63.32029581069946\n",
      "month_id=20191201\n",
      "76.04257607460022\n",
      "month_id=20191101\n",
      "68.09688448905945\n",
      "month_id=20191001\n",
      "73.1204514503479\n",
      "month_id=20190901\n",
      "77.45056676864624\n",
      "month_id=20190801\n",
      "81.33086442947388\n",
      "month_id=20190701\n",
      "75.85873699188232\n",
      "month_id=20190601\n",
      "76.14026856422424\n",
      "month_id=20190501\n",
      "73.66489672660828\n",
      "month_id=20190401\n",
      "62.024861335754395\n",
      "month_id=20190301\n",
      "65.59002804756165\n",
      "month_id=20190201\n",
      "51.69440007209778\n",
      "month_id=20190101\n",
      "55.370786905288696\n",
      "month_id=20181201\n",
      "64.611323595047\n",
      "month_id=20181101\n",
      "56.12984228134155\n",
      "month_id=20181001\n",
      "61.97296142578125\n",
      "month_id=20180901\n",
      "66.30707144737244\n",
      "month_id=20180801\n",
      "58.01497292518616\n",
      "month_id=20180701\n",
      "49.80024838447571\n",
      "month_id=20180601\n",
      "39.2427020072937\n",
      "month_id=20180501\n",
      "41.21166229248047\n",
      "month_id=20180401\n",
      "34.98945188522339\n",
      "month_id=20180301\n",
      "37.14786648750305\n",
      "month_id=20180201\n",
      "30.237191438674927\n",
      "month_id=20180101\n",
      "36.18343210220337\n"
     ]
    }
   ],
   "source": [
    "df_rev = pd.DataFrame()\n",
    "for file in file_list:\n",
    "    print(file)\n",
    "    # Loading dumped GDW data\n",
    "    st = time.time()\n",
    "    df = pd.read_parquet(offline_input_path + file + '/data.parquet')\n",
    "    df['sld_menu_itm_id'] = df['sld_menu_itm_id'].astype('int')\n",
    "    # compute Rev\n",
    "    alc_df = df[(df['cmbo_pren_sld_menu_itm_id'] == -1)].reset_index(drop=True)\n",
    "    cmbo_df = df[(df['cmbo_pren_sld_menu_itm_id'] != -1)].reset_index(drop=True)\n",
    "    cmbo_df[\"pos_itm_grss_am\"] = cmbo_df.groupby(['pos_busn_dt', \n",
    "                              'mcd_gbal_lcat_id_nu',\n",
    "                              'pos_ord_nu', \n",
    "                              'cmbo_pren_sld_menu_itm_id'])[['pos_itm_grss_am']].transform(\"sum\")\n",
    "    cmbo_df = cmbo_df[cmbo_df['cmbo_pren_sld_menu_itm_id'] == cmbo_df['sld_menu_itm_id']]\n",
    "    df = pd.concat([alc_df, cmbo_df], axis=0).reset_index(drop=True)\n",
    "    # Loading digital trn data if exist and doing separate operations\n",
    "    digital_flag = 0\n",
    "    if os.path.exists(digital_input_path + file + '/'):\n",
    "\n",
    "        # Loading digital data\n",
    "        dig_df = pd.read_parquet(digital_input_path + file + '/part-0.parquet')[['pos_ord_nu', 'mcd_gbal_lcat_id_nu']]\n",
    "        dig_df['digital_flag'] = 1\n",
    "\n",
    "        # Merging digital data\n",
    "        df = df.merge(dig_df, on=['mcd_gbal_lcat_id_nu', 'pos_ord_nu'], how='left')\n",
    "\n",
    "        # Clearing space\n",
    "        del dig_df\n",
    "        digital_flag = 1\n",
    "    else :\n",
    "        df['digital_flag'] = np.NaN\n",
    "    df.digital_flag.fillna(0,inplace=True)\n",
    "    # Separating alc and Combo trns to get mode price\n",
    "    df = df.groupby(grouper_cols+[\"digital_flag\"]).pos_itm_grss_am.sum().reset_index()\n",
    "    df_rev = df_rev.append(df)\n",
    "    print(time.time()-st)"
   ]
  },
  {
   "cell_type": "code",
   "execution_count": null,
   "id": "898ffa45",
   "metadata": {},
   "outputs": [],
   "source": []
  },
  {
   "cell_type": "code",
   "execution_count": 22,
   "id": "e5ebc6b5",
   "metadata": {},
   "outputs": [],
   "source": [
    "df_units = df_units[[\"pos_busn_dt\",\"quantity\",\"num_trans\"]]\n",
    "df_units[\"monthid\"] =  df_units.pos_busn_dt.dt.strftime(\"%Y%m\")"
   ]
  },
  {
   "cell_type": "code",
   "execution_count": 30,
   "id": "d02750ac",
   "metadata": {},
   "outputs": [
    {
     "data": {
      "text/html": [
       "<div>\n",
       "<style scoped>\n",
       "    .dataframe tbody tr th:only-of-type {\n",
       "        vertical-align: middle;\n",
       "    }\n",
       "\n",
       "    .dataframe tbody tr th {\n",
       "        vertical-align: top;\n",
       "    }\n",
       "\n",
       "    .dataframe thead th {\n",
       "        text-align: right;\n",
       "    }\n",
       "</style>\n",
       "<table border=\"1\" class=\"dataframe\">\n",
       "  <thead>\n",
       "    <tr style=\"text-align: right;\">\n",
       "      <th></th>\n",
       "      <th>pos_busn_dt</th>\n",
       "      <th>quantity</th>\n",
       "      <th>num_trans</th>\n",
       "      <th>monthid</th>\n",
       "    </tr>\n",
       "  </thead>\n",
       "  <tbody>\n",
       "    <tr>\n",
       "      <th>0</th>\n",
       "      <td>2020-03-12</td>\n",
       "      <td>4</td>\n",
       "      <td>1</td>\n",
       "      <td>202003</td>\n",
       "    </tr>\n",
       "    <tr>\n",
       "      <th>1</th>\n",
       "      <td>2020-03-18</td>\n",
       "      <td>4</td>\n",
       "      <td>1</td>\n",
       "      <td>202003</td>\n",
       "    </tr>\n",
       "    <tr>\n",
       "      <th>2</th>\n",
       "      <td>2020-03-19</td>\n",
       "      <td>4</td>\n",
       "      <td>1</td>\n",
       "      <td>202003</td>\n",
       "    </tr>\n",
       "    <tr>\n",
       "      <th>3</th>\n",
       "      <td>2020-03-20</td>\n",
       "      <td>40436</td>\n",
       "      <td>11035</td>\n",
       "      <td>202003</td>\n",
       "    </tr>\n",
       "    <tr>\n",
       "      <th>4</th>\n",
       "      <td>2020-03-21</td>\n",
       "      <td>147642</td>\n",
       "      <td>39812</td>\n",
       "      <td>202003</td>\n",
       "    </tr>\n",
       "  </tbody>\n",
       "</table>\n",
       "</div>"
      ],
      "text/plain": [
       "  pos_busn_dt  quantity  num_trans monthid\n",
       "0  2020-03-12         4          1  202003\n",
       "1  2020-03-18         4          1  202003\n",
       "2  2020-03-19         4          1  202003\n",
       "3  2020-03-20     40436      11035  202003\n",
       "4  2020-03-21    147642      39812  202003"
      ]
     },
     "execution_count": 30,
     "metadata": {},
     "output_type": "execute_result"
    }
   ],
   "source": [
    "df_units.head()"
   ]
  },
  {
   "cell_type": "code",
   "execution_count": 31,
   "id": "997b3039",
   "metadata": {},
   "outputs": [
    {
     "data": {
      "text/plain": [
       "'/opt/sasdata/dev/PricingEngines/DiscountEngines/Russia/data/processed/digital/grouped/day_level_rev/'"
      ]
     },
     "execution_count": 31,
     "metadata": {},
     "output_type": "execute_result"
    }
   ],
   "source": [
    "output_path"
   ]
  },
  {
   "cell_type": "code",
   "execution_count": 32,
   "id": "cd80d7df",
   "metadata": {},
   "outputs": [],
   "source": [
    "df = df_rev[df_rev.digital_flag!=0]"
   ]
  },
  {
   "cell_type": "code",
   "execution_count": 33,
   "id": "18ec1c5b",
   "metadata": {},
   "outputs": [],
   "source": [
    "df = df.merge(df_units,on=grouper_cols,how=\"left\")\n",
    "df[\"check_value\"] = df[\"pos_itm_grss_am\"]/df[\"quantity\"]\n",
    "# create dir if doesn't exist \n",
    "os.makedirs(output_path, exist_ok=True)\n",
    "df.to_parquet(output_path, partition_cols=['monthid'])\n",
    "_change_permissions_recursive(output_path, 0o777)"
   ]
  },
  {
   "cell_type": "code",
   "execution_count": 28,
   "id": "e3159fd6",
   "metadata": {},
   "outputs": [],
   "source": [
    "if \"digital\" in \"digital\":\n",
    "    units_path = cfg.offline[\"UNITS\"].format(**cfg.offline,type_=\"digital\")\n",
    "    output_path = cfg.offline[\"REV\"].format(**cfg.offline,type_=\"digital\")\n",
    "    df = df_rev[df_rev.digital_flag==0]\n",
    "df_units = pd.read_parquet(units_path)"
   ]
  },
  {
   "cell_type": "code",
   "execution_count": 29,
   "id": "5495ee4f",
   "metadata": {},
   "outputs": [
    {
     "data": {
      "text/html": [
       "<div>\n",
       "<style scoped>\n",
       "    .dataframe tbody tr th:only-of-type {\n",
       "        vertical-align: middle;\n",
       "    }\n",
       "\n",
       "    .dataframe tbody tr th {\n",
       "        vertical-align: top;\n",
       "    }\n",
       "\n",
       "    .dataframe thead th {\n",
       "        text-align: right;\n",
       "    }\n",
       "</style>\n",
       "<table border=\"1\" class=\"dataframe\">\n",
       "  <thead>\n",
       "    <tr style=\"text-align: right;\">\n",
       "      <th></th>\n",
       "      <th>pos_busn_dt</th>\n",
       "      <th>pos_itm_tot_qt</th>\n",
       "      <th>gc</th>\n",
       "      <th>sld_menu_itm_id</th>\n",
       "      <th>monthid</th>\n",
       "    </tr>\n",
       "    <tr>\n",
       "      <th>index</th>\n",
       "      <th></th>\n",
       "      <th></th>\n",
       "      <th></th>\n",
       "      <th></th>\n",
       "      <th></th>\n",
       "    </tr>\n",
       "  </thead>\n",
       "  <tbody>\n",
       "    <tr>\n",
       "      <th>12471</th>\n",
       "      <td>2020-08-14</td>\n",
       "      <td>1</td>\n",
       "      <td>1</td>\n",
       "      <td>10000106</td>\n",
       "      <td>202008</td>\n",
       "    </tr>\n",
       "    <tr>\n",
       "      <th>12472</th>\n",
       "      <td>2020-08-15</td>\n",
       "      <td>2</td>\n",
       "      <td>2</td>\n",
       "      <td>10000106</td>\n",
       "      <td>202008</td>\n",
       "    </tr>\n",
       "    <tr>\n",
       "      <th>12473</th>\n",
       "      <td>2020-08-16</td>\n",
       "      <td>1</td>\n",
       "      <td>1</td>\n",
       "      <td>10000106</td>\n",
       "      <td>202008</td>\n",
       "    </tr>\n",
       "    <tr>\n",
       "      <th>12474</th>\n",
       "      <td>2020-08-20</td>\n",
       "      <td>2</td>\n",
       "      <td>1</td>\n",
       "      <td>10000106</td>\n",
       "      <td>202008</td>\n",
       "    </tr>\n",
       "    <tr>\n",
       "      <th>12699</th>\n",
       "      <td>2020-09-12</td>\n",
       "      <td>1</td>\n",
       "      <td>1</td>\n",
       "      <td>10000106</td>\n",
       "      <td>202009</td>\n",
       "    </tr>\n",
       "  </tbody>\n",
       "</table>\n",
       "</div>"
      ],
      "text/plain": [
       "      pos_busn_dt  pos_itm_tot_qt  gc sld_menu_itm_id monthid\n",
       "index                                                        \n",
       "12471  2020-08-14               1   1        10000106  202008\n",
       "12472  2020-08-15               2   2        10000106  202008\n",
       "12473  2020-08-16               1   1        10000106  202008\n",
       "12474  2020-08-20               2   1        10000106  202008\n",
       "12699  2020-09-12               1   1        10000106  202009"
      ]
     },
     "execution_count": 29,
     "metadata": {},
     "output_type": "execute_result"
    }
   ],
   "source": [
    "df_units.head()"
   ]
  },
  {
   "cell_type": "code",
   "execution_count": 30,
   "id": "bd92565f",
   "metadata": {},
   "outputs": [
    {
     "data": {
      "text/plain": [
       "'/opt/sasdata/dev/PricingEngines/DiscountEngines/Russia/data/processed/digital/ungrouped_data/item_level_rev/'"
      ]
     },
     "execution_count": 30,
     "metadata": {},
     "output_type": "execute_result"
    }
   ],
   "source": [
    "output_path"
   ]
  },
  {
   "cell_type": "code",
   "execution_count": 31,
   "id": "5e40fbb1",
   "metadata": {},
   "outputs": [],
   "source": [
    "df_units = df_units.reset_index(drop=True)\n",
    "df = df.merge(df_units,on=grouper_cols,how=\"left\")"
   ]
  },
  {
   "cell_type": "code",
   "execution_count": 32,
   "id": "4e9a74f7",
   "metadata": {},
   "outputs": [],
   "source": [
    "df[\"check_value\"] = df[\"pos_itm_grss_am\"]/df[\"pos_itm_tot_qt\"]\n",
    "# create dir if doesn't exist \n",
    "os.makedirs(output_path, exist_ok=True)\n",
    "df.to_parquet(output_path, partition_cols=['sld_menu_itm_id', 'monthid'])\n",
    "_change_permissions_recursive(output_path, 0o777)"
   ]
  },
  {
   "cell_type": "code",
   "execution_count": null,
   "id": "e6fee59b",
   "metadata": {},
   "outputs": [],
   "source": []
  }
 ],
 "metadata": {
  "kernelspec": {
   "display_name": "Python 3",
   "language": "python",
   "name": "python3"
  },
  "language_info": {
   "codemirror_mode": {
    "name": "ipython",
    "version": 3
   },
   "file_extension": ".py",
   "mimetype": "text/x-python",
   "name": "python",
   "nbconvert_exporter": "python",
   "pygments_lexer": "ipython3",
   "version": "3.8.10"
  }
 },
 "nbformat": 4,
 "nbformat_minor": 5
}
