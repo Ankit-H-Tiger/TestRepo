{
 "cells": [
  {
   "cell_type": "code",
   "execution_count": 1,
   "id": "a70ccfed",
   "metadata": {},
   "outputs": [],
   "source": [
    "%load_ext autoreload\n",
    "%autoreload 2"
   ]
  },
  {
   "cell_type": "code",
   "execution_count": 2,
   "id": "16b3816e",
   "metadata": {},
   "outputs": [],
   "source": [
    "# Loading required packages\n",
    "\n",
    "from ta_lib.data_utils.data_processing import get_aggregated_data\n",
    "from ta_lib.core.api import load_yml, create_context"
   ]
  },
  {
   "cell_type": "code",
   "execution_count": 3,
   "id": "1300641f",
   "metadata": {},
   "outputs": [],
   "source": [
    "# Defining configs\n",
    "\n",
    "config_path = '../conf/config.yml'\n",
    "cfg = create_context(config_path)\n"
   ]
  },
  {
   "cell_type": "code",
   "execution_count": null,
   "id": "38a0858b",
   "metadata": {},
   "outputs": [],
   "source": []
  },
  {
   "cell_type": "code",
   "execution_count": 4,
   "id": "c2a803e2",
   "metadata": {},
   "outputs": [],
   "source": [
    "# Getting grouped data"
   ]
  },
  {
   "cell_type": "code",
   "execution_count": 5,
   "id": "620f1094",
   "metadata": {},
   "outputs": [
    {
     "name": "stdout",
     "output_type": "stream",
     "text": [
      "['month_id=20180701', 'month_id=20180601', 'month_id=20180501', 'month_id=20180401', 'month_id=20180301', 'month_id=20180201', 'month_id=20180101']\n",
      "month_id=20180701  is completed\n",
      "month_id=20180601  is completed\n",
      "month_id=20180501  is completed\n",
      "month_id=20180401  is completed\n",
      "month_id=20180301  is completed\n",
      "month_id=20180201  is completed\n",
      "month_id=20180101  is completed\n"
     ]
    }
   ],
   "source": [
    "get_aggregated_data.get_grouped_gc_data(cfg.offline, result_filter='both')"
   ]
  },
  {
   "cell_type": "code",
   "execution_count": null,
   "id": "e5e75d3a",
   "metadata": {},
   "outputs": [],
   "source": []
  }
 ],
 "metadata": {
  "kernelspec": {
   "display_name": "Python 3",
   "language": "python",
   "name": "python3"
  },
  "language_info": {
   "codemirror_mode": {
    "name": "ipython",
    "version": 3
   },
   "file_extension": ".py",
   "mimetype": "text/x-python",
   "name": "python",
   "nbconvert_exporter": "python",
   "pygments_lexer": "ipython3",
   "version": "3.8.10"
  }
 },
 "nbformat": 4,
 "nbformat_minor": 5
}
