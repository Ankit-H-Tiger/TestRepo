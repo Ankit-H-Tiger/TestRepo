{
 "cells": [
  {
   "cell_type": "code",
   "execution_count": 1,
   "id": "bd335f1d",
   "metadata": {},
   "outputs": [],
   "source": [
    "# Importing required packages\n",
    "\n",
    "import pandas as pd\n",
    "import numpy as np\n",
    "\n",
    "import os\n",
    "import gc"
   ]
  },
  {
   "cell_type": "code",
   "execution_count": null,
   "id": "efb48ff9",
   "metadata": {},
   "outputs": [],
   "source": []
  },
  {
   "cell_type": "code",
   "execution_count": 2,
   "id": "3953dc11",
   "metadata": {},
   "outputs": [
    {
     "data": {
      "text/html": [
       "<div>\n",
       "<style scoped>\n",
       "    .dataframe tbody tr th:only-of-type {\n",
       "        vertical-align: middle;\n",
       "    }\n",
       "\n",
       "    .dataframe tbody tr th {\n",
       "        vertical-align: top;\n",
       "    }\n",
       "\n",
       "    .dataframe thead th {\n",
       "        text-align: right;\n",
       "    }\n",
       "</style>\n",
       "<table border=\"1\" class=\"dataframe\">\n",
       "  <thead>\n",
       "    <tr style=\"text-align: right;\">\n",
       "      <th></th>\n",
       "      <th>file</th>\n",
       "      <th>ddtype</th>\n",
       "      <th>col</th>\n",
       "    </tr>\n",
       "  </thead>\n",
       "  <tbody>\n",
       "    <tr>\n",
       "      <th>0</th>\n",
       "      <td>sld_menu_itm_id=8663/monthid=202108/part.0.par...</td>\n",
       "      <td>pos_busn_dt    datetime64[ns]\\nWAP            ...</td>\n",
       "      <td>3</td>\n",
       "    </tr>\n",
       "    <tr>\n",
       "      <th>0</th>\n",
       "      <td>sld_menu_itm_id=2212/monthid=201801/part.0.par...</td>\n",
       "      <td>pos_busn_dt    datetime64[ns]\\nWAP            ...</td>\n",
       "      <td>3</td>\n",
       "    </tr>\n",
       "    <tr>\n",
       "      <th>0</th>\n",
       "      <td>sld_menu_itm_id=2212/monthid=201802/part.0.par...</td>\n",
       "      <td>pos_busn_dt    datetime64[ns]\\nWAP            ...</td>\n",
       "      <td>3</td>\n",
       "    </tr>\n",
       "    <tr>\n",
       "      <th>0</th>\n",
       "      <td>sld_menu_itm_id=8825/monthid=201904/part.0.par...</td>\n",
       "      <td>pos_busn_dt    datetime64[ns]\\nWAP            ...</td>\n",
       "      <td>3</td>\n",
       "    </tr>\n",
       "    <tr>\n",
       "      <th>0</th>\n",
       "      <td>sld_menu_itm_id=8825/monthid=202103/part.0.par...</td>\n",
       "      <td>pos_busn_dt    datetime64[ns]\\nWAP            ...</td>\n",
       "      <td>3</td>\n",
       "    </tr>\n",
       "    <tr>\n",
       "      <th>...</th>\n",
       "      <td>...</td>\n",
       "      <td>...</td>\n",
       "      <td>...</td>\n",
       "    </tr>\n",
       "    <tr>\n",
       "      <th>0</th>\n",
       "      <td>sld_menu_itm_id=2211/monthid=201808/part.0.par...</td>\n",
       "      <td>pos_busn_dt    datetime64[ns]\\nWAP            ...</td>\n",
       "      <td>3</td>\n",
       "    </tr>\n",
       "    <tr>\n",
       "      <th>0</th>\n",
       "      <td>sld_menu_itm_id=2211/monthid=201907/part.0.par...</td>\n",
       "      <td>pos_busn_dt    datetime64[ns]\\nWAP            ...</td>\n",
       "      <td>3</td>\n",
       "    </tr>\n",
       "    <tr>\n",
       "      <th>0</th>\n",
       "      <td>sld_menu_itm_id=2211/monthid=201912/part.0.par...</td>\n",
       "      <td>pos_busn_dt    datetime64[ns]\\nWAP            ...</td>\n",
       "      <td>3</td>\n",
       "    </tr>\n",
       "    <tr>\n",
       "      <th>0</th>\n",
       "      <td>sld_menu_itm_id=2211/monthid=201903/part.0.par...</td>\n",
       "      <td>pos_busn_dt    datetime64[ns]\\nWAP            ...</td>\n",
       "      <td>3</td>\n",
       "    </tr>\n",
       "    <tr>\n",
       "      <th>0</th>\n",
       "      <td>sld_menu_itm_id=2211/monthid=201804/part.0.par...</td>\n",
       "      <td>pos_busn_dt    datetime64[ns]\\nWAP            ...</td>\n",
       "      <td>3</td>\n",
       "    </tr>\n",
       "  </tbody>\n",
       "</table>\n",
       "<p>18636 rows × 3 columns</p>\n",
       "</div>"
      ],
      "text/plain": [
       "                                                 file  \\\n",
       "0   sld_menu_itm_id=8663/monthid=202108/part.0.par...   \n",
       "0   sld_menu_itm_id=2212/monthid=201801/part.0.par...   \n",
       "0   sld_menu_itm_id=2212/monthid=201802/part.0.par...   \n",
       "0   sld_menu_itm_id=8825/monthid=201904/part.0.par...   \n",
       "0   sld_menu_itm_id=8825/monthid=202103/part.0.par...   \n",
       "..                                                ...   \n",
       "0   sld_menu_itm_id=2211/monthid=201808/part.0.par...   \n",
       "0   sld_menu_itm_id=2211/monthid=201907/part.0.par...   \n",
       "0   sld_menu_itm_id=2211/monthid=201912/part.0.par...   \n",
       "0   sld_menu_itm_id=2211/monthid=201903/part.0.par...   \n",
       "0   sld_menu_itm_id=2211/monthid=201804/part.0.par...   \n",
       "\n",
       "                                               ddtype  col  \n",
       "0   pos_busn_dt    datetime64[ns]\\nWAP            ...    3  \n",
       "0   pos_busn_dt    datetime64[ns]\\nWAP            ...    3  \n",
       "0   pos_busn_dt    datetime64[ns]\\nWAP            ...    3  \n",
       "0   pos_busn_dt    datetime64[ns]\\nWAP            ...    3  \n",
       "0   pos_busn_dt    datetime64[ns]\\nWAP            ...    3  \n",
       "..                                                ...  ...  \n",
       "0   pos_busn_dt    datetime64[ns]\\nWAP            ...    3  \n",
       "0   pos_busn_dt    datetime64[ns]\\nWAP            ...    3  \n",
       "0   pos_busn_dt    datetime64[ns]\\nWAP            ...    3  \n",
       "0   pos_busn_dt    datetime64[ns]\\nWAP            ...    3  \n",
       "0   pos_busn_dt    datetime64[ns]\\nWAP            ...    3  \n",
       "\n",
       "[18636 rows x 3 columns]"
      ]
     },
     "execution_count": 2,
     "metadata": {},
     "output_type": "execute_result"
    }
   ],
   "source": [
    "path = '/opt/sasdata/dev/PricingEngines/DiscountEngines/Russia/data/processed/offline/ungrouped_data/wap/'\n",
    "\n",
    "stat_df = pd.DataFrame()\n",
    "for item in os.listdir(path) :\n",
    "    if 'metadata' not in item :\n",
    "        for month in os.listdir(path + item) :\n",
    "            for file in os.listdir(path + item + '/' + month) :\n",
    "                df = pd.read_parquet(path + item + '/' + month + '/' + file)\n",
    "                temp_df = pd.DataFrame()\n",
    "                temp_df['file'] = [item + '/' + month + '/' + file]\n",
    "                temp_df['ddtype'] = [str(df.dtypes)]\n",
    "                temp_df['col'] = [len(df.columns)]\n",
    "            \n",
    "                stat_df = pd.concat([stat_df, temp_df], axis=0)\n",
    "                \n",
    "stat_df"
   ]
  },
  {
   "cell_type": "code",
   "execution_count": 3,
   "id": "6021b453",
   "metadata": {},
   "outputs": [
    {
     "data": {
      "text/plain": [
       "{'pos_busn_dt    datetime64[ns]\\nWAP                   float64\\nMode_price            float64\\ndtype: object'}"
      ]
     },
     "execution_count": 3,
     "metadata": {},
     "output_type": "execute_result"
    }
   ],
   "source": [
    "set(stat_df['ddtype'])"
   ]
  },
  {
   "cell_type": "code",
   "execution_count": 4,
   "id": "393d1c2d",
   "metadata": {},
   "outputs": [
    {
     "data": {
      "text/plain": [
       "1"
      ]
     },
     "execution_count": 4,
     "metadata": {},
     "output_type": "execute_result"
    }
   ],
   "source": [
    "len(set(stat_df['col']))"
   ]
  },
  {
   "cell_type": "code",
   "execution_count": null,
   "id": "93b2a6d0",
   "metadata": {},
   "outputs": [],
   "source": []
  },
  {
   "cell_type": "code",
   "execution_count": 5,
   "id": "d9a45a08",
   "metadata": {},
   "outputs": [],
   "source": [
    "path = '/opt/sasdata/dev/PricingEngines/DiscountEngines/Russia/data/processed/offline/ungrouped_data/wap_missed/'\n",
    "op_path = '/opt/sasdata/dev/PricingEngines/DiscountEngines/Russia/data/processed/offline/ungrouped_data/wap/'\n",
    "\n",
    "select_cols = ['pos_busn_dt', 'WAP', 'Mode_price']\n",
    "for item in os.listdir(path) :\n",
    "    if 'metadata' not in item :\n",
    "        for month in os.listdir(path + item) :\n",
    "            for file in os.listdir(path + item + '/' + month) :\n",
    "            \n",
    "                if not os.path.exists(op_path + item + '/' + month) :\n",
    "                    df = pd.read_parquet(path + item + '/' + month + '/' + file)[select_cols]\n",
    "                    os.makedirs(op_path + item + '/' + month, exist_ok=True)\n",
    "                    df.to_parquet(op_path + item + '/' + month + '/part.0.parquet')\n",
    "            \n",
    "            \n",
    "            "
   ]
  },
  {
   "cell_type": "code",
   "execution_count": 8,
   "id": "4de6ac55",
   "metadata": {},
   "outputs": [
    {
     "data": {
      "text/plain": [
       "(607639, 5)"
      ]
     },
     "execution_count": 8,
     "metadata": {},
     "output_type": "execute_result"
    }
   ],
   "source": [
    "op_path = '/opt/sasdata/dev/PricingEngines/DiscountEngines/Russia/data/processed/offline/ungrouped_data/item_level/'\n",
    "df_ch = pd.read_parquet(op_path)\n",
    "\n",
    "df_ch.shape"
   ]
  },
  {
   "cell_type": "code",
   "execution_count": 9,
   "id": "ed88cd74",
   "metadata": {},
   "outputs": [
    {
     "data": {
      "text/plain": [
       "(24264, 2)"
      ]
     },
     "execution_count": 9,
     "metadata": {},
     "output_type": "execute_result"
    }
   ],
   "source": [
    "df_ch[['monthid', 'sld_menu_itm_id']].drop_duplicates().shape"
   ]
  },
  {
   "cell_type": "code",
   "execution_count": null,
   "id": "2fd27574",
   "metadata": {},
   "outputs": [],
   "source": []
  },
  {
   "cell_type": "code",
   "execution_count": null,
   "id": "e6ae53b2",
   "metadata": {},
   "outputs": [],
   "source": []
  },
  {
   "cell_type": "code",
   "execution_count": null,
   "id": "133f0997",
   "metadata": {},
   "outputs": [],
   "source": []
  },
  {
   "cell_type": "code",
   "execution_count": null,
   "id": "3dc139a0",
   "metadata": {},
   "outputs": [],
   "source": [
    "# Selecting only req cols and saving\n",
    "op_path = '/opt/sasdata/dev/PricingEngines/DiscountEngines/Russia/data/processed/overall/grouped/item_level/'\n",
    "\n",
    "select_cols = ['pos_busn_dt', 'num_trans', 'quantity']\n",
    "for item in os.listdir(op_path) :\n",
    "    if 'metadata' not in item :\n",
    "        for month in os.listdir(op_path + item) :\n",
    "            for file in os.listdir(op_path + item + '/' + month) :\n",
    "            \n",
    "                df = pd.read_parquet(op_path + item + '/' + month + '/' + file)[select_cols]\n",
    "                df.to_parquet(op_path + item + '/' + month + '/part.0.parquet')\n",
    "            \n",
    "            \n",
    "            "
   ]
  },
  {
   "cell_type": "code",
   "execution_count": null,
   "id": "bea3f939",
   "metadata": {},
   "outputs": [],
   "source": []
  }
 ],
 "metadata": {
  "kernelspec": {
   "display_name": "Python 3",
   "language": "python",
   "name": "python3"
  },
  "language_info": {
   "codemirror_mode": {
    "name": "ipython",
    "version": 3
   },
   "file_extension": ".py",
   "mimetype": "text/x-python",
   "name": "python",
   "nbconvert_exporter": "python",
   "pygments_lexer": "ipython3",
   "version": "3.8.10"
  }
 },
 "nbformat": 4,
 "nbformat_minor": 5
}
