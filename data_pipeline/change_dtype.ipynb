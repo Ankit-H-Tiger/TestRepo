{
 "cells": [
  {
   "cell_type": "code",
   "execution_count": 1,
   "id": "7b446417",
   "metadata": {},
   "outputs": [],
   "source": [
    "import pandas as pd\n",
    "import os\n",
    "import gc\n"
   ]
  },
  {
   "cell_type": "code",
   "execution_count": null,
   "id": "acafc716",
   "metadata": {},
   "outputs": [],
   "source": []
  },
  {
   "cell_type": "code",
   "execution_count": 2,
   "id": "914965ab",
   "metadata": {},
   "outputs": [
    {
     "name": "stdout",
     "output_type": "stream",
     "text": [
      "<class 'pandas.core.frame.DataFrame'>\n",
      "RangeIndex: 31 entries, 0 to 30\n",
      "Data columns (total 3 columns):\n",
      " #   Column       Non-Null Count  Dtype         \n",
      "---  ------       --------------  -----         \n",
      " 0   pos_busn_dt  31 non-null     datetime64[ns]\n",
      " 1   num_trans    31 non-null     int64         \n",
      " 2   quantity     31 non-null     int64         \n",
      "dtypes: datetime64[ns](1), int64(2)\n",
      "memory usage: 872.0 bytes\n"
     ]
    }
   ],
   "source": [
    "path = '/opt/sasdata/dev/PricingEngines/DiscountEngines/Russia/data/processed/offline/grouped/item_level//sld_menu_itm_id=1005/monthid=201801/part.0.parquet'\n",
    "path_a = '/opt/sasdata/dev/PricingEngines/DiscountEngines/Russia/data/processed/offline/grouped/item_level/sld_menu_itm_id=2100/monthid=202101/part.0.parquet'\n",
    "\n",
    "df = pd.read_parquet(path)\n",
    "df_1 = pd.read_parquet(path_a)\n",
    "\n",
    "df.info()"
   ]
  },
  {
   "cell_type": "code",
   "execution_count": null,
   "id": "0b1cecd2",
   "metadata": {},
   "outputs": [],
   "source": [
    "df_1.info()"
   ]
  },
  {
   "cell_type": "code",
   "execution_count": null,
   "id": "7945f210",
   "metadata": {},
   "outputs": [],
   "source": [
    "pd.DataFrame(df_1.dtypes).reset_index()"
   ]
  },
  {
   "cell_type": "code",
   "execution_count": null,
   "id": "995812b2",
   "metadata": {},
   "outputs": [],
   "source": []
  },
  {
   "cell_type": "code",
   "execution_count": null,
   "id": "49dfca73",
   "metadata": {},
   "outputs": [],
   "source": [
    "path = '/opt/sasdata/dev/PricingEngines/DiscountEngines/Russia/data/processed/offline/ungrouped_data/item_level/'\n",
    "paths = os.listdir(path)"
   ]
  },
  {
   "cell_type": "code",
   "execution_count": 2,
   "id": "00ff497b",
   "metadata": {},
   "outputs": [
    {
     "ename": "NotADirectoryError",
     "evalue": "[Errno 20] Not a directory: '/opt/sasdata/dev/PricingEngines/DiscountEngines/Russia/data/processed/offline/ungrouped_data/item_level/monthid=202004/468ec166468140f9bf4bcd66d14417f9.parquet'",
     "output_type": "error",
     "traceback": [
      "\u001b[0;31m---------------------------------------------------------------------------\u001b[0m",
      "\u001b[0;31mNotADirectoryError\u001b[0m                        Traceback (most recent call last)",
      "\u001b[0;32m<ipython-input-2-cf774637057c>\u001b[0m in \u001b[0;36m<module>\u001b[0;34m\u001b[0m\n\u001b[1;32m      7\u001b[0m     \u001b[0;32mif\u001b[0m \u001b[0;34m'metadata'\u001b[0m \u001b[0;32mnot\u001b[0m \u001b[0;32min\u001b[0m \u001b[0mitem\u001b[0m \u001b[0;34m:\u001b[0m\u001b[0;34m\u001b[0m\u001b[0;34m\u001b[0m\u001b[0m\n\u001b[1;32m      8\u001b[0m         \u001b[0;32mfor\u001b[0m \u001b[0mmonth\u001b[0m \u001b[0;32min\u001b[0m \u001b[0mos\u001b[0m\u001b[0;34m.\u001b[0m\u001b[0mlistdir\u001b[0m\u001b[0;34m(\u001b[0m\u001b[0mpath\u001b[0m \u001b[0;34m+\u001b[0m \u001b[0mitem\u001b[0m \u001b[0;34m+\u001b[0m \u001b[0;34m'/'\u001b[0m\u001b[0;34m)\u001b[0m \u001b[0;34m:\u001b[0m\u001b[0;34m\u001b[0m\u001b[0;34m\u001b[0m\u001b[0m\n\u001b[0;32m----> 9\u001b[0;31m             \u001b[0;32mfor\u001b[0m \u001b[0mfile\u001b[0m \u001b[0;32min\u001b[0m \u001b[0mos\u001b[0m\u001b[0;34m.\u001b[0m\u001b[0mlistdir\u001b[0m\u001b[0;34m(\u001b[0m\u001b[0mpath\u001b[0m \u001b[0;34m+\u001b[0m \u001b[0mitem\u001b[0m \u001b[0;34m+\u001b[0m \u001b[0;34m'/'\u001b[0m \u001b[0;34m+\u001b[0m \u001b[0mmonth\u001b[0m\u001b[0;34m)\u001b[0m \u001b[0;34m:\u001b[0m\u001b[0;34m\u001b[0m\u001b[0;34m\u001b[0m\u001b[0m\n\u001b[0m\u001b[1;32m     10\u001b[0m                 \u001b[0mdf\u001b[0m\u001b[0;34m=\u001b[0m\u001b[0mpd\u001b[0m\u001b[0;34m.\u001b[0m\u001b[0mread_parquet\u001b[0m\u001b[0;34m(\u001b[0m\u001b[0mpath\u001b[0m \u001b[0;34m+\u001b[0m \u001b[0mitem\u001b[0m \u001b[0;34m+\u001b[0m \u001b[0;34m'/'\u001b[0m \u001b[0;34m+\u001b[0m \u001b[0mmonth\u001b[0m \u001b[0;34m+\u001b[0m \u001b[0;34m'/'\u001b[0m \u001b[0;34m+\u001b[0m \u001b[0mfile\u001b[0m\u001b[0;34m)\u001b[0m\u001b[0;34m\u001b[0m\u001b[0;34m\u001b[0m\u001b[0m\n\u001b[1;32m     11\u001b[0m \u001b[0;34m\u001b[0m\u001b[0m\n",
      "\u001b[0;31mNotADirectoryError\u001b[0m: [Errno 20] Not a directory: '/opt/sasdata/dev/PricingEngines/DiscountEngines/Russia/data/processed/offline/ungrouped_data/item_level/monthid=202004/468ec166468140f9bf4bcd66d14417f9.parquet'"
     ]
    }
   ],
   "source": [
    "# Checking dtype\n",
    "path = '/opt/sasdata/dev/PricingEngines/DiscountEngines/Russia/data/processed/offline/ungrouped_data/item_level/'\n",
    "#path = '/home/mc77916/data/processed/offline/grouped/item_level/'\n",
    "\n",
    "stat_df = pd.DataFrame()\n",
    "for item in os.listdir(path) :\n",
    "    if 'metadata' not in item :\n",
    "        for month in os.listdir(path + item + '/') :\n",
    "            for file in os.listdir(path + item + '/' + month) :\n",
    "                df=pd.read_parquet(path + item + '/' + month + '/' + file)\n",
    "\n",
    "                temp_df = pd.DataFrame(df.dtypes).reset_index()\n",
    "                temp_df['file'] = item + '/' + month\n",
    "\n",
    "                stat_df = pd.concat([stat_df, temp_df], axis=0)\n",
    "stat_df"
   ]
  },
  {
   "cell_type": "code",
   "execution_count": null,
   "id": "55ff1560",
   "metadata": {},
   "outputs": [],
   "source": [
    "stat_df.groupby(['index'])[[0]].nunique()"
   ]
  },
  {
   "cell_type": "code",
   "execution_count": null,
   "id": "dcbfa26b",
   "metadata": {},
   "outputs": [],
   "source": []
  },
  {
   "cell_type": "code",
   "execution_count": null,
   "id": "07fb5c4f",
   "metadata": {},
   "outputs": [],
   "source": []
  }
 ],
 "metadata": {
  "kernelspec": {
   "display_name": "Python 3",
   "language": "python",
   "name": "python3"
  },
  "language_info": {
   "codemirror_mode": {
    "name": "ipython",
    "version": 3
   },
   "file_extension": ".py",
   "mimetype": "text/x-python",
   "name": "python",
   "nbconvert_exporter": "python",
   "pygments_lexer": "ipython3",
   "version": "3.8.10"
  }
 },
 "nbformat": 4,
 "nbformat_minor": 5
}
