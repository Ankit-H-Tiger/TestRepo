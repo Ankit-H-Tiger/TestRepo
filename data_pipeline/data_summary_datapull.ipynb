{
 "cells": [
  {
   "cell_type": "code",
   "execution_count": 1,
   "id": "ba054699",
   "metadata": {},
   "outputs": [],
   "source": [
    "%load_ext autoreload\n",
    "%autoreload 2"
   ]
  },
  {
   "cell_type": "code",
   "execution_count": 3,
   "id": "b12ad887",
   "metadata": {},
   "outputs": [],
   "source": [
    "# Loading required packages\n",
    "\n",
    "from ta_lib.data_utils.data_processing import get_aggregated_data\n",
    "from ta_lib.core.api import load_yml, create_context"
   ]
  },
  {
   "cell_type": "code",
   "execution_count": 4,
   "id": "3daf2085",
   "metadata": {},
   "outputs": [],
   "source": [
    "# Defining configs\n",
    "\n",
    "config_path = '../conf/config.yml'\n",
    "cfg = create_context(config_path)\n"
   ]
  },
  {
   "cell_type": "code",
   "execution_count": null,
   "id": "8a7acb4b",
   "metadata": {},
   "outputs": [],
   "source": []
  },
  {
   "cell_type": "code",
   "execution_count": 5,
   "id": "14c32ad2",
   "metadata": {},
   "outputs": [
    {
     "ename": "TypeError",
     "evalue": "process_raw_data() got an unexpected keyword argument 'start_month'",
     "output_type": "error",
     "traceback": [
      "\u001b[0;31m---------------------------------------------------------------------------\u001b[0m",
      "\u001b[0;31mTypeError\u001b[0m                                 Traceback (most recent call last)",
      "\u001b[0;32m<ipython-input-5-da7bf21a0e8d>\u001b[0m in \u001b[0;36m<module>\u001b[0;34m\u001b[0m\n\u001b[0;32m----> 1\u001b[0;31m \u001b[0mget_aggregated_data\u001b[0m\u001b[0;34m.\u001b[0m\u001b[0mprocess_raw_data\u001b[0m\u001b[0;34m(\u001b[0m\u001b[0mcfg\u001b[0m\u001b[0;34m.\u001b[0m\u001b[0moffline\u001b[0m\u001b[0;34m,\u001b[0m \u001b[0mstart_month\u001b[0m\u001b[0;34m=\u001b[0m\u001b[0;34m'2018-08-01'\u001b[0m\u001b[0;34m,\u001b[0m \u001b[0mend_month\u001b[0m\u001b[0;34m=\u001b[0m\u001b[0;34m'2018-09-01'\u001b[0m\u001b[0;34m,\u001b[0m \u001b[0mgrouping\u001b[0m\u001b[0;34m=\u001b[0m\u001b[0;32mFalse\u001b[0m\u001b[0;34m,\u001b[0m \u001b[0mresult_filter\u001b[0m\u001b[0;34m=\u001b[0m\u001b[0;34m'digital'\u001b[0m\u001b[0;34m,\u001b[0m \u001b[0mday_level\u001b[0m\u001b[0;34m=\u001b[0m\u001b[0;32mFalse\u001b[0m\u001b[0;34m)\u001b[0m\u001b[0;34m\u001b[0m\u001b[0;34m\u001b[0m\u001b[0m\n\u001b[0m",
      "\u001b[0;31mTypeError\u001b[0m: process_raw_data() got an unexpected keyword argument 'start_month'"
     ]
    }
   ],
   "source": [
    "get_aggregated_data.process_raw_data(cfg.offline, start_month='2018-08-01', end_month='2018-09-01', grouping=False, result_filter='digital', day_level=False)"
   ]
  },
  {
   "cell_type": "code",
   "execution_count": null,
   "id": "b4fb213d",
   "metadata": {},
   "outputs": [],
   "source": []
  },
  {
   "cell_type": "code",
   "execution_count": null,
   "id": "dffb80d0",
   "metadata": {},
   "outputs": [],
   "source": []
  }
 ],
 "metadata": {
  "kernelspec": {
   "display_name": "Python 3",
   "language": "python",
   "name": "python3"
  },
  "language_info": {
   "codemirror_mode": {
    "name": "ipython",
    "version": 3
   },
   "file_extension": ".py",
   "mimetype": "text/x-python",
   "name": "python",
   "nbconvert_exporter": "python",
   "pygments_lexer": "ipython3",
   "version": "3.8.10"
  }
 },
 "nbformat": 4,
 "nbformat_minor": 5
}
