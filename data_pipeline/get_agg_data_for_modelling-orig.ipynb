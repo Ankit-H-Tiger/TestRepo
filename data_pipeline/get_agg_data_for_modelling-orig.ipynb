{
 "cells": [
  {
   "cell_type": "code",
   "execution_count": 1,
   "id": "61800930",
   "metadata": {},
   "outputs": [],
   "source": [
    "%load_ext autoreload\n",
    "%autoreload 2"
   ]
  },
  {
   "cell_type": "code",
   "execution_count": 2,
   "id": "c2f998d6",
   "metadata": {},
   "outputs": [],
   "source": [
    "# Loading required packages\n",
    "\n",
    "from ta_lib.data_utils.data_processing import get_aggregated_data\n",
    "from ta_lib.core.api import load_yml, create_context"
   ]
  },
  {
   "cell_type": "code",
   "execution_count": 3,
   "id": "7aab9500",
   "metadata": {},
   "outputs": [],
   "source": [
    "# Defining configs\n",
    "\n",
    "config_path = '../conf/config.yml'\n",
    "cfg = create_context(config_path)\n"
   ]
  },
  {
   "cell_type": "code",
   "execution_count": null,
   "id": "712bdc4f",
   "metadata": {},
   "outputs": [],
   "source": []
  },
  {
   "cell_type": "markdown",
   "id": "979e0c3b",
   "metadata": {},
   "source": [
    "# Gett Aggregated data (Offline)"
   ]
  },
  {
   "cell_type": "code",
   "execution_count": 4,
   "id": "335ac905",
   "metadata": {},
   "outputs": [
    {
     "name": "stdout",
     "output_type": "stream",
     "text": [
      "['month_id=20200201', 'month_id=20200101', 'month_id=20191201', 'month_id=20191101', 'month_id=20191001', 'month_id=20190901', 'month_id=20190801', 'month_id=20190701', 'month_id=20190601', 'month_id=20190501', 'month_id=20190401', 'month_id=20190301', 'month_id=20190201', 'month_id=20190101', 'month_id=20181201', 'month_id=20181101', 'month_id=20181001', 'month_id=20180901', 'month_id=20180801', 'month_id=20180701', 'month_id=20180601', 'month_id=20180501', 'month_id=20180401', 'month_id=20180301', 'month_id=20180201', 'month_id=20180101']\n",
      "month_id=20200201  is completed\n",
      "month_id=20200101  is completed\n",
      "month_id=20191201  is completed\n",
      "month_id=20191101  is completed\n",
      "month_id=20191001  is completed\n",
      "month_id=20190901  is completed\n",
      "month_id=20190801  is completed\n",
      "month_id=20190701  is completed\n",
      "month_id=20190601  is completed\n",
      "month_id=20190501  is completed\n",
      "month_id=20190401  is completed\n",
      "month_id=20190301  is completed\n",
      "month_id=20190201  is completed\n",
      "month_id=20190101  is completed\n",
      "month_id=20181201  is completed\n",
      "month_id=20181101  is completed\n",
      "month_id=20181001  is completed\n",
      "month_id=20180901  is completed\n",
      "month_id=20180801  is completed\n",
      "month_id=20180701  is completed\n",
      "month_id=20180601  is completed\n",
      "month_id=20180501  is completed\n",
      "month_id=20180401  is completed\n",
      "month_id=20180301  is completed\n",
      "month_id=20180201  is completed\n",
      "month_id=20180101  is completed\n"
     ]
    }
   ],
   "source": [
    "get_aggregated_data.get_ungrouped_data(cfg.offline, result_filter='both', day_level=True)"
   ]
  },
  {
   "cell_type": "code",
   "execution_count": null,
   "id": "f21e12a5",
   "metadata": {},
   "outputs": [],
   "source": []
  }
 ],
 "metadata": {
  "kernelspec": {
   "display_name": "Python 3",
   "language": "python",
   "name": "python3"
  },
  "language_info": {
   "codemirror_mode": {
    "name": "ipython",
    "version": 3
   },
   "file_extension": ".py",
   "mimetype": "text/x-python",
   "name": "python",
   "nbconvert_exporter": "python",
   "pygments_lexer": "ipython3",
   "version": "3.8.10"
  }
 },
 "nbformat": 4,
 "nbformat_minor": 5
}
