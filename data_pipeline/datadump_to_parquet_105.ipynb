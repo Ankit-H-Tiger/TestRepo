{
 "cells": [
  {
   "cell_type": "code",
   "execution_count": null,
   "id": "35164ab9",
   "metadata": {},
   "outputs": [],
   "source": [
    "# Importing required packages\n",
    "\n",
    "import pandas as pd\n",
    "import numpy as np\n",
    "\n",
    "import os\n",
    "import gc"
   ]
  },
  {
   "cell_type": "code",
   "execution_count": null,
   "id": "ae020e6b",
   "metadata": {},
   "outputs": [],
   "source": [
    "ip_path = '/opt/sasdata/dev/PricingEngines/DiscountEngines/Russia/data/raw/redshift_105_trn/'\n",
    "op_path = '/opt/sasdata/dev/PricingEngines/DiscountEngines/Russia/data/raw/gdw_data_105_trn/'\n",
    "\n",
    "file_list = os.listdir(ip_path)\n",
    "file_list.sort()\n",
    "\n",
    "month_list = [''.join(str(x).split(' ')[0].split('-')[:2]) for x in pd.date_range('2018-01-01','2021-08-31' , freq='1M') ]\n",
    "cols=['pos_ord_nu', 'pos_busn_dt', 'mcd_gbal_lcat_id_nu', 'sld_menu_itm_id', 'cmbo_pren_sld_menu_itm_id',\n",
    "          'pos_itm_tot_qt', 'pos_itm_grss_unt_prc_am', 'pos_itm_grss_am', 'pos_tot_disc_am', 'terr_pos_trn_typ_cd']\n",
    "\n",
    "for i in range(len(month_list)) :\n",
    "    \n",
    "    month = month_list[i]\n",
    "    if i == 0:\n",
    "        start_month = 'random'\n",
    "    else :\n",
    "        start_month = month_list[i-1]\n",
    "        \n",
    "        \n",
    "    if i == len(month_list)-1 :\n",
    "        end_month = 'random'\n",
    "    else :\n",
    "        end_month = month_list[i+1]\n",
    "         \n",
    "    print(month, start_month, end_month)   \n",
    "    files_list = []\n",
    "    for file in file_list :\n",
    "        if month in file or start_month in file or end_month in file :\n",
    "            files_list.append(file)\n",
    "            \n",
    "    df = pd.DataFrame()  \n",
    "    for fin_f in files_list :\n",
    "        df = pd.concat([df, pd.read_parquet(ip_path + fin_f)])\n",
    "        df = df[(df['pos_busn_dt'].apply(lambda x: ''.join(str(x).split('-')[:2])) == month)]\n",
    "       \n",
    "\n",
    "    df = df[cols]\n",
    "    # Altering data type\n",
    "    df['pos_busn_dt'] = pd.to_datetime(df['pos_busn_dt'])\n",
    "    df['sld_menu_itm_id'] = df['sld_menu_itm_id'].astype('int')\n",
    "    df['cmbo_pren_sld_menu_itm_id'] = df['cmbo_pren_sld_menu_itm_id'].astype('int')\n",
    "    df['pos_itm_tot_qt'] = df['pos_itm_tot_qt'].astype('int')\n",
    "        \n",
    "    df['pos_itm_grss_unt_prc_am'] = df['pos_itm_grss_unt_prc_am'].astype('float')\n",
    "    df['mcd_gbal_lcat_id_nu'] = df['mcd_gbal_lcat_id_nu'].astype('int')\n",
    "    df['pos_ord_nu'] = df['pos_ord_nu'].astype('int64')\n",
    "    df['pos_tot_disc_am'] = df['pos_tot_disc_am'].astype('float')\n",
    "        \n",
    "    df['terr_pos_trn_typ_cd'] = df['terr_pos_trn_typ_cd'].astype('str')\n",
    "\n",
    "    os.makedirs(op_path+ \"month_id=\" + month + '01/' , exist_ok=True)\n",
    "    df.to_parquet(op_path + \"month_id=\" + month + '01/data.parquet')\n",
    "    print(month)\n",
    "        \n",
    "    del df\n",
    "    gc.collect()\n",
    "    \n",
    "    "
   ]
  },
  {
   "cell_type": "code",
   "execution_count": null,
   "id": "e374065c",
   "metadata": {},
   "outputs": [],
   "source": []
  },
  {
   "cell_type": "code",
   "execution_count": null,
   "id": "7eb4b958",
   "metadata": {},
   "outputs": [],
   "source": []
  },
  {
   "cell_type": "code",
   "execution_count": null,
   "id": "7c93b1ec",
   "metadata": {},
   "outputs": [],
   "source": []
  },
  {
   "cell_type": "code",
   "execution_count": null,
   "id": "4f8b04ca",
   "metadata": {},
   "outputs": [],
   "source": []
  },
  {
   "cell_type": "code",
   "execution_count": null,
   "id": "e80f967f",
   "metadata": {},
   "outputs": [],
   "source": []
  },
  {
   "cell_type": "code",
   "execution_count": null,
   "id": "9dce9a56",
   "metadata": {},
   "outputs": [],
   "source": []
  },
  {
   "cell_type": "code",
   "execution_count": null,
   "id": "e2ff84dd",
   "metadata": {},
   "outputs": [],
   "source": []
  },
  {
   "cell_type": "code",
   "execution_count": null,
   "id": "295775ea",
   "metadata": {},
   "outputs": [],
   "source": [
    "sum_val"
   ]
  },
  {
   "cell_type": "code",
   "execution_count": null,
   "id": "7b1511d2",
   "metadata": {},
   "outputs": [],
   "source": [
    "df = pd.read_parquet(ip_path + '20210404.parquet')\n",
    "\n",
    "df.head()"
   ]
  },
  {
   "cell_type": "code",
   "execution_count": null,
   "id": "c3682512",
   "metadata": {},
   "outputs": [],
   "source": []
  },
  {
   "cell_type": "code",
   "execution_count": null,
   "id": "56bfb0db",
   "metadata": {},
   "outputs": [],
   "source": [
    "%%time\n"
   ]
  },
  {
   "cell_type": "code",
   "execution_count": 1,
   "id": "bda66cc7",
   "metadata": {},
   "outputs": [],
   "source": [
    "# Missed August reading\n",
    "\n",
    "import pandas as pd\n",
    "import numpy as np\n",
    "import os\n",
    "import gc"
   ]
  },
  {
   "cell_type": "code",
   "execution_count": null,
   "id": "c1b13a94",
   "metadata": {},
   "outputs": [],
   "source": []
  },
  {
   "cell_type": "code",
   "execution_count": 2,
   "id": "e27c3ce9",
   "metadata": {},
   "outputs": [
    {
     "data": {
      "text/plain": [
       "(47084649, 22)"
      ]
     },
     "execution_count": 2,
     "metadata": {},
     "output_type": "execute_result"
    }
   ],
   "source": [
    "path = '/opt/sasdata/dev/PricingEngines/DiscountEngines/Russia/data/raw/redshift_105_trn_1/'\n",
    "\n",
    "df = pd.DataFrame()\n",
    "for file in os.listdir(path) :\n",
    "    df = pd.concat([df, pd.read_parquet(path + file)])\n",
    "    \n",
    "df.shape"
   ]
  },
  {
   "cell_type": "code",
   "execution_count": 3,
   "id": "f01fd7ae",
   "metadata": {},
   "outputs": [
    {
     "name": "stdout",
     "output_type": "stream",
     "text": [
      "(47084649, 22)\n",
      "(47084649, 22)\n"
     ]
    }
   ],
   "source": [
    "op_path = '/opt/sasdata/dev/PricingEngines/DiscountEngines/Russia/data/raw/gdw_data_105_trn/'\n",
    "\n",
    "cols=['pos_ord_nu', 'pos_busn_dt', 'mcd_gbal_lcat_id_nu', 'sld_menu_itm_id', 'cmbo_pren_sld_menu_itm_id',\n",
    "          'pos_itm_tot_qt', 'pos_itm_grss_unt_prc_am', 'pos_itm_grss_am', 'pos_tot_disc_am', 'terr_pos_trn_typ_cd']\n",
    "\n",
    "print(df.shape)\n",
    "df = df[(df['pos_busn_dt'].apply(lambda x: ''.join(str(x).split('-')[:2])) == '202108')]\n",
    "print(df.shape)\n",
    "\n",
    "df = df[cols]\n",
    "\n",
    "# Altering data type\n",
    "df['pos_busn_dt'] = pd.to_datetime(df['pos_busn_dt'])\n",
    "df['sld_menu_itm_id'] = df['sld_menu_itm_id'].astype('int')\n",
    "df['cmbo_pren_sld_menu_itm_id'] = df['cmbo_pren_sld_menu_itm_id'].astype('int')\n",
    "df['cmbo_pren_sld_menu_itm_id'] = df['cmbo_pren_sld_menu_itm_id'].astype('int')\n",
    "df['pos_itm_tot_qt'] = df['pos_itm_tot_qt'].astype('int')\n",
    "        \n",
    "df['pos_itm_grss_unt_prc_am'] = df['pos_itm_grss_unt_prc_am'].astype('float')\n",
    "df['mcd_gbal_lcat_id_nu'] = df['mcd_gbal_lcat_id_nu'].astype('int')\n",
    "df['pos_ord_nu'] = df['pos_ord_nu'].astype('int64')\n",
    "df['pos_tot_disc_am'] = df['pos_tot_disc_am'].astype('float')\n",
    "        \n",
    "df['terr_pos_trn_typ_cd'] = df['terr_pos_trn_typ_cd'].astype('str')\n",
    "\n",
    "os.makedirs(op_path+ \"month_id=\"  + '20210801/' , exist_ok=True)\n",
    "df.to_parquet(op_path + \"month_id=\"  + '20210801/data.parquet')\n"
   ]
  },
  {
   "cell_type": "code",
   "execution_count": null,
   "id": "0bc73ed8",
   "metadata": {},
   "outputs": [],
   "source": []
  }
 ],
 "metadata": {
  "kernelspec": {
   "display_name": "Python 3",
   "language": "python",
   "name": "python3"
  },
  "language_info": {
   "codemirror_mode": {
    "name": "ipython",
    "version": 3
   },
   "file_extension": ".py",
   "mimetype": "text/x-python",
   "name": "python",
   "nbconvert_exporter": "python",
   "pygments_lexer": "ipython3",
   "version": "3.8.10"
  }
 },
 "nbformat": 4,
 "nbformat_minor": 5
}
