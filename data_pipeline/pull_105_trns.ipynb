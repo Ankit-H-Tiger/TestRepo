{
 "cells": [
  {
   "cell_type": "code",
   "execution_count": null,
   "id": "72e070b7",
   "metadata": {},
   "outputs": [],
   "source": [
    "# Importing required packages\n",
    "\n",
    "import pandas as pd\n",
    "import numpy as np\n",
    "\n",
    "import os\n",
    "import gc\n",
    "\n",
    "from ta_lib.core.api import load_yml, create_db_connection, create_context, _change_permissions_recursive\n",
    "\n",
    "import datetime"
   ]
  },
  {
   "cell_type": "code",
   "execution_count": null,
   "id": "05657e36",
   "metadata": {},
   "outputs": [],
   "source": [
    "# Specifying config and connections\n",
    "config_path = '../conf/config.yml'\n",
    "cfg = create_context(config_path).offline\n",
    "\n",
    "conn=create_db_connection(cfg)"
   ]
  },
  {
   "cell_type": "code",
   "execution_count": null,
   "id": "f38d5611",
   "metadata": {},
   "outputs": [],
   "source": []
  },
  {
   "cell_type": "code",
   "execution_count": null,
   "id": "88261313",
   "metadata": {},
   "outputs": [],
   "source": [
    "def get_missing_data(start_date, end_date) :\n",
    "    \n",
    "    sql_query= f\"\"\"\n",
    "    SELECT \n",
    "    pos_trn_id, pos_trn_itm_seq_nu, pos_ord_nu,\n",
    "    pos_ord_dt,  pos_itm_tot_qt, pos_itm_net_unt_prc_am,  pos_itm_grss_unt_prc_am,\n",
    "    pos_tot_disc_am,  pos_tot_disc_pc, pos_itm_unt_tot_cost_am,  pos_itm_grss_am,\n",
    "    pos_itm_tot_cost_am, mcd_gbal_lcat_id_nu, cmbo_pren_sld_menu_itm_id,\n",
    "    pos_busn_dt, pos_ord_beg_tm, dypt_id_nu, terr_pos_trn_typ_cd,\n",
    "    terr_pymt_meth_cd, terr_prd_dlvr_meth_cd,  terr_pos_area_cd, sld_menu_itm_id\n",
    "    FROM RMDW_Tables.POS_TRN_ITM\n",
    "    WHERE terr_pos_trn_typ_cd in ('105')\n",
    "    AND POS_ITM_GVAW_ITM_FL = 0\n",
    "    AND CAST(POS_BUSN_DT as DATE) >= CAST('{start_date}' as DATE)\n",
    "    AND CAST(POS_BUSN_DT as DATE) <= CAST('{end_date}' as DATE)\n",
    "    \"\"\"    \n",
    "    return sql_query"
   ]
  },
  {
   "cell_type": "code",
   "execution_count": null,
   "id": "8613a4f8",
   "metadata": {},
   "outputs": [],
   "source": [
    "# Defining variables\n",
    "start_date = '2021-08-01'\n",
    "end_date = '2021-08-31'\n",
    "\n",
    "date_list = [x.strftime('%Y-%m-%d') for x in pd.date_range(start_date,end_date,freq='w').to_list()] + ['2021-08-31']\n",
    "\n",
    "date_list"
   ]
  },
  {
   "cell_type": "code",
   "execution_count": null,
   "id": "96c040b2",
   "metadata": {},
   "outputs": [],
   "source": []
  },
  {
   "cell_type": "code",
   "execution_count": null,
   "id": "6eac2258",
   "metadata": {},
   "outputs": [],
   "source": [
    "op_path = '/opt/sasdata/dev/PricingEngines/DiscountEngines/Russia/data/raw/redshift_105_trn_1/'\n",
    "\n",
    "stat_df = pd.DataFrame()\n",
    "for i in range(len(date_list)-1) :\n",
    "    \n",
    "    t1 = pd.Timestamp.today()\n",
    "    \n",
    "    if i == len(date_list)-2 :\n",
    "        start_date = date_list[i]\n",
    "        end_date = date_list[i+1]\n",
    "    else :   \n",
    "        start_date = date_list[i]\n",
    "        end_date = (pd.to_datetime(date_list[i+1]) - datetime.timedelta(1)).date()\n",
    "        \n",
    "    query_q = get_missing_data(start_date, end_date)\n",
    "    \n",
    "    df = pd.read_sql(query_q, conn)\n",
    "    \n",
    "    os.makedirs(op_path, exist_ok=True)\n",
    "    df.to_parquet(op_path + start_date.replace('-','') + '.parquet')\n",
    "    _change_permissions_recursive(op_path, 0o777)\n",
    "    \n",
    "    t2 = pd.Timestamp.today()\n",
    "    \n",
    "    temp_df = pd.DataFrame()\n",
    "    temp_df['start_date'] = [ start_date ]\n",
    "    temp_df['end_date'] = [ end_date ]\n",
    "    temp_df['rows'] = [ df.shape[0] ]\n",
    "    temp_df['cols'] = [ df.shape[1] ]\n",
    "    temp_df['time taken'] = [ t2-t1 ]\n",
    "    \n",
    "    stat_df = pd.concat([stat_df, temp_df], axis=0)\n",
    "    \n",
    "    print(date_list[i], 'is done in ', t2-t1)\n",
    "    \n"
   ]
  },
  {
   "cell_type": "code",
   "execution_count": null,
   "id": "b972aa3f",
   "metadata": {},
   "outputs": [],
   "source": [
    "stat_df"
   ]
  },
  {
   "cell_type": "code",
   "execution_count": null,
   "id": "08e3df07",
   "metadata": {},
   "outputs": [],
   "source": []
  },
  {
   "cell_type": "code",
   "execution_count": null,
   "id": "abb93806",
   "metadata": {},
   "outputs": [],
   "source": []
  }
 ],
 "metadata": {
  "kernelspec": {
   "display_name": "Python 3",
   "language": "python",
   "name": "python3"
  },
  "language_info": {
   "codemirror_mode": {
    "name": "ipython",
    "version": 3
   },
   "file_extension": ".py",
   "mimetype": "text/x-python",
   "name": "python",
   "nbconvert_exporter": "python",
   "pygments_lexer": "ipython3",
   "version": "3.8.10"
  }
 },
 "nbformat": 4,
 "nbformat_minor": 5
}
