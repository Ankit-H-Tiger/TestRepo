{
 "cells": [
  {
   "cell_type": "code",
   "execution_count": 1,
   "id": "f520c3a8",
   "metadata": {},
   "outputs": [],
   "source": [
    "%load_ext autoreload\n",
    "%autoreload 2"
   ]
  },
  {
   "cell_type": "code",
   "execution_count": 2,
   "id": "e53591cc",
   "metadata": {},
   "outputs": [],
   "source": [
    "# Importing required packages\n",
    "\n",
    "from ta_lib.data_utils.data_processing import get_aggregated_data\n",
    "from ta_lib.core.api import load_yml, create_context\n",
    "\n",
    "import pandas as pd\n",
    "import os"
   ]
  },
  {
   "cell_type": "code",
   "execution_count": 3,
   "id": "8320797b",
   "metadata": {},
   "outputs": [],
   "source": [
    "# Defining configs\n",
    "\n",
    "config_path = '../conf/config.yml'\n",
    "cfg = create_context(config_path)"
   ]
  },
  {
   "cell_type": "code",
   "execution_count": null,
   "id": "f67c360a",
   "metadata": {},
   "outputs": [],
   "source": []
  },
  {
   "cell_type": "markdown",
   "id": "37e0e64a",
   "metadata": {},
   "source": [
    "# Reagg data"
   ]
  },
  {
   "cell_type": "code",
   "execution_count": 4,
   "id": "82dbf05b",
   "metadata": {},
   "outputs": [],
   "source": [
    "# transposing data from Month level to Item X Month level\n",
    "\n",
    "get_aggregated_data.get_grouped_wap_from_ungrouped(cfg.offline, result_filter='offline')"
   ]
  },
  {
   "cell_type": "code",
   "execution_count": null,
   "id": "8d58ffc0",
   "metadata": {},
   "outputs": [],
   "source": []
  },
  {
   "cell_type": "code",
   "execution_count": null,
   "id": "59e4ee4c",
   "metadata": {},
   "outputs": [],
   "source": [
    "# Cleaning up folders\n",
    "\n",
    "data_to_clean = []\n",
    "path = '/opt/sasdata/dev/PricingEngines/DiscountEngines/Russia/data/processed/offline/ungrouped_data/wap/'\n",
    "for file in os.listdir(path) :\n",
    "    for file1 in os.listdir(path + file + '/') :\n",
    "        for parq in os.listdir(path + file + '/' + file1 + '/') :\n",
    "            \n",
    "            df = pd.read_parquet(path + file + '/' + file1 + '/' + parq)\n",
    "            \n",
    "            if df.shape[1] > 3 :\n",
    "                data_to_clean.append(path + file + '/' + file1 + '/' + parq)\n",
    "            "
   ]
  },
  {
   "cell_type": "code",
   "execution_count": null,
   "id": "a279c86e",
   "metadata": {},
   "outputs": [],
   "source": [
    "len(data_to_clean)"
   ]
  },
  {
   "cell_type": "code",
   "execution_count": null,
   "id": "5cb910ad",
   "metadata": {},
   "outputs": [],
   "source": [
    "data_to_clean[:2]"
   ]
  },
  {
   "cell_type": "code",
   "execution_count": null,
   "id": "106dd2f6",
   "metadata": {},
   "outputs": [],
   "source": [
    "# Removing files\n",
    "for file in data_to_clean :\n",
    "    os.remove(file)"
   ]
  },
  {
   "cell_type": "code",
   "execution_count": null,
   "id": "901c014f",
   "metadata": {},
   "outputs": [],
   "source": []
  }
 ],
 "metadata": {
  "kernelspec": {
   "display_name": "Python 3",
   "language": "python",
   "name": "python3"
  },
  "language_info": {
   "codemirror_mode": {
    "name": "ipython",
    "version": 3
   },
   "file_extension": ".py",
   "mimetype": "text/x-python",
   "name": "python",
   "nbconvert_exporter": "python",
   "pygments_lexer": "ipython3",
   "version": "3.8.10"
  }
 },
 "nbformat": 4,
 "nbformat_minor": 5
}
