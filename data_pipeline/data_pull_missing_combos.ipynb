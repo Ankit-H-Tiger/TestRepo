{
 "cells": [
  {
   "cell_type": "code",
   "execution_count": 1,
   "id": "99e809a0",
   "metadata": {},
   "outputs": [],
   "source": [
    "%load_ext autoreload\n",
    "%autoreload 2"
   ]
  },
  {
   "cell_type": "code",
   "execution_count": 2,
   "id": "90be4e21",
   "metadata": {},
   "outputs": [
    {
     "name": "stderr",
     "output_type": "stream",
     "text": [
      "WARNING:param.main: pandas could not register all extension types imports failed with the following error: cannot import name 'ABCIndexClass' from 'pandas.core.dtypes.generic' (/home/mc77916/.conda/envs/mcd-de-dev/lib/python3.8/site-packages/pandas/core/dtypes/generic.py)\n"
     ]
    }
   ],
   "source": [
    "# Importing required packages\n",
    "import pandas as pd\n",
    "import numpy as np\n",
    "\n",
    "import os\n",
    "import gc\n",
    "\n",
    "from ta_lib.data_utils.data_processing import get_aggregated_data\n",
    "from ta_lib.core.api import load_yml, create_context\n"
   ]
  },
  {
   "cell_type": "code",
   "execution_count": null,
   "id": "34df039f",
   "metadata": {},
   "outputs": [],
   "source": []
  },
  {
   "cell_type": "code",
   "execution_count": 3,
   "id": "d25206b0",
   "metadata": {},
   "outputs": [],
   "source": [
    "# Defining configs\n",
    "\n",
    "config_path = '../conf/config.yml'\n",
    "cfg = create_context(config_path)"
   ]
  },
  {
   "cell_type": "code",
   "execution_count": null,
   "id": "8f74eb11",
   "metadata": {},
   "outputs": [],
   "source": []
  },
  {
   "cell_type": "code",
   "execution_count": 4,
   "id": "410fbdac",
   "metadata": {},
   "outputs": [
    {
     "data": {
      "text/html": [
       "<div>\n",
       "<style scoped>\n",
       "    .dataframe tbody tr th:only-of-type {\n",
       "        vertical-align: middle;\n",
       "    }\n",
       "\n",
       "    .dataframe tbody tr th {\n",
       "        vertical-align: top;\n",
       "    }\n",
       "\n",
       "    .dataframe thead th {\n",
       "        text-align: right;\n",
       "    }\n",
       "</style>\n",
       "<table border=\"1\" class=\"dataframe\">\n",
       "  <thead>\n",
       "    <tr style=\"text-align: right;\">\n",
       "      <th></th>\n",
       "      <th>monthid</th>\n",
       "      <th>sld_menu_itm_id</th>\n",
       "      <th>data_fl</th>\n",
       "      <th>qty_fl</th>\n",
       "      <th>wap_fl</th>\n",
       "    </tr>\n",
       "  </thead>\n",
       "  <tbody>\n",
       "    <tr>\n",
       "      <th>14015</th>\n",
       "      <td>202004</td>\n",
       "      <td>7111</td>\n",
       "      <td>1.0</td>\n",
       "      <td>NaN</td>\n",
       "      <td>NaN</td>\n",
       "    </tr>\n",
       "    <tr>\n",
       "      <th>14018</th>\n",
       "      <td>202004</td>\n",
       "      <td>2154</td>\n",
       "      <td>1.0</td>\n",
       "      <td>NaN</td>\n",
       "      <td>NaN</td>\n",
       "    </tr>\n",
       "    <tr>\n",
       "      <th>14037</th>\n",
       "      <td>202004</td>\n",
       "      <td>7274</td>\n",
       "      <td>1.0</td>\n",
       "      <td>NaN</td>\n",
       "      <td>NaN</td>\n",
       "    </tr>\n",
       "  </tbody>\n",
       "</table>\n",
       "</div>"
      ],
      "text/plain": [
       "       monthid  sld_menu_itm_id  data_fl  qty_fl  wap_fl\n",
       "14015   202004             7111      1.0     NaN     NaN\n",
       "14018   202004             2154      1.0     NaN     NaN\n",
       "14037   202004             7274      1.0     NaN     NaN"
      ]
     },
     "execution_count": 4,
     "metadata": {},
     "output_type": "execute_result"
    }
   ],
   "source": [
    "qty_mis_df = pd.read_csv('Ungrouped_offline_missing_stats.csv')\n",
    "qty_mis_df = qty_mis_df[(qty_mis_df['qty_fl'].isna())]\n",
    "\n",
    "qty_mis_df.head(3)"
   ]
  },
  {
   "cell_type": "code",
   "execution_count": null,
   "id": "82fd2e5f",
   "metadata": {},
   "outputs": [],
   "source": []
  },
  {
   "cell_type": "code",
   "execution_count": null,
   "id": "6cd86a18",
   "metadata": {},
   "outputs": [],
   "source": []
  },
  {
   "cell_type": "code",
   "execution_count": null,
   "id": "bb07b466",
   "metadata": {},
   "outputs": [],
   "source": []
  },
  {
   "cell_type": "code",
   "execution_count": 5,
   "id": "a5cefd49",
   "metadata": {},
   "outputs": [],
   "source": [
    "# Getting qty data for missed item and months"
   ]
  },
  {
   "cell_type": "code",
   "execution_count": 6,
   "id": "ba549bf0",
   "metadata": {},
   "outputs": [
    {
     "name": "stdout",
     "output_type": "stream",
     "text": [
      "['month_id=20200401', 'month_id=20200501', 'month_id=20200601', 'month_id=20200701', 'month_id=20200801', 'month_id=20200901', 'month_id=20201001', 'month_id=20201101', 'month_id=20201201', 'month_id=20210101', 'month_id=20210201', 'month_id=20210301', 'month_id=20210401', 'month_id=20210501', 'month_id=20210601', 'month_id=20210701']\n",
      "month_id=20200401  is completed\n",
      "month_id=20200501  is completed\n",
      "month_id=20200601  is completed\n",
      "month_id=20200701  is completed\n",
      "month_id=20200801  is completed\n",
      "month_id=20200901  is completed\n",
      "month_id=20201001  is completed\n",
      "month_id=20201101  is completed\n",
      "month_id=20201201  is completed\n",
      "month_id=20210101  is completed\n",
      "month_id=20210201  is completed\n",
      "month_id=20210301  is completed\n",
      "month_id=20210401  is completed\n",
      "month_id=20210501  is completed\n",
      "month_id=20210601  is completed\n",
      "month_id=20210701  is completed\n"
     ]
    }
   ],
   "source": [
    "get_aggregated_data.get_ungrouped_data(cfg.offline, result_filter='offline', day_level=False, item_level=True, get_price_info=False, \n",
    "                                       filter_item=list(qty_mis_df['sld_menu_itm_id'].unique()), \n",
    "                                       file_list=['month_id='+str(x)+'01' for x in list(qty_mis_df['monthid'].unique())])"
   ]
  },
  {
   "cell_type": "code",
   "execution_count": null,
   "id": "40d62120",
   "metadata": {},
   "outputs": [],
   "source": []
  },
  {
   "cell_type": "code",
   "execution_count": null,
   "id": "0c1051f7",
   "metadata": {},
   "outputs": [],
   "source": []
  },
  {
   "cell_type": "code",
   "execution_count": null,
   "id": "8a5b90b0",
   "metadata": {},
   "outputs": [],
   "source": []
  },
  {
   "cell_type": "code",
   "execution_count": null,
   "id": "4f9c16e7",
   "metadata": {},
   "outputs": [],
   "source": []
  }
 ],
 "metadata": {
  "kernelspec": {
   "display_name": "Python 3",
   "language": "python",
   "name": "python3"
  },
  "language_info": {
   "codemirror_mode": {
    "name": "ipython",
    "version": 3
   },
   "file_extension": ".py",
   "mimetype": "text/x-python",
   "name": "python",
   "nbconvert_exporter": "python",
   "pygments_lexer": "ipython3",
   "version": "3.8.10"
  }
 },
 "nbformat": 4,
 "nbformat_minor": 5
}
