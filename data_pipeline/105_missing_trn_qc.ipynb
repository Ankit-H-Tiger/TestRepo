{
 "cells": [
  {
   "cell_type": "code",
   "execution_count": 1,
   "id": "16348e52",
   "metadata": {},
   "outputs": [],
   "source": [
    "# Importing required packages\n",
    "\n",
    "import pandas as pd\n",
    "import numpy as np\n",
    "\n",
    "import os\n",
    "import gc"
   ]
  },
  {
   "cell_type": "code",
   "execution_count": null,
   "id": "35d6027b",
   "metadata": {},
   "outputs": [],
   "source": []
  },
  {
   "cell_type": "code",
   "execution_count": 2,
   "id": "ac265f64",
   "metadata": {},
   "outputs": [
    {
     "name": "stdout",
     "output_type": "stream",
     "text": [
      "month_id=20180101 (88867663, 10) (8632824, 10) 10.294159014477765\n",
      "month_id=20180201 (75823770, 10) (8977126, 10) 8.446330150651779\n",
      "month_id=20180301 (89764791, 10) (10654348, 10) 8.425179185061348\n",
      "month_id=20180401 (95612673, 10) (11970952, 10) 7.987056752044449\n",
      "month_id=20180501 (110270833, 10) (10778350, 10) 10.230771221940278\n",
      "month_id=20180601 (108116820, 10) (11828887, 10) 9.140067024057293\n",
      "month_id=20180701 (108974628, 10) (12671909, 10) 8.599700960605068\n",
      "month_id=20180801 (116429107, 10) (12173204, 10) 9.564376560189084\n",
      "month_id=20180901 (116287566, 10) (11254398, 10) 10.332633162608964\n",
      "month_id=20181001 (116454244, 10) (10939652, 10) 10.645150686694604\n",
      "month_id=20181101 (109663617, 10) (12907442, 10) 8.496154156648544\n",
      "month_id=20181201 (125168935, 10) (16578555, 10) 7.550050954380524\n",
      "month_id=20190101 (112862032, 10) (12070807, 10) 9.349998885741442\n",
      "month_id=20190201 (105106246, 10) (12560494, 10) 8.368002564230355\n",
      "month_id=20190301 (130261733, 10) (13788340, 10) 9.447238246228334\n",
      "month_id=20190401 (128926654, 10) (17051000, 10) 7.561237112192833\n",
      "month_id=20190501 (147191794, 10) (17407719, 10) 8.455547449955965\n",
      "month_id=20190601 (145788252, 10) (13969323, 10) 10.436314773450366\n",
      "month_id=20190701 (144306562, 10) (17339908, 10) 8.322221894141537\n",
      "month_id=20190801 (151143909, 10) (18541151, 10) 8.151808320853435\n",
      "month_id=20190901 (142719775, 10) (15437745, 10) 9.244858947987547\n",
      "month_id=20191001 (143584220, 10) (18238047, 10) 7.872784843684195\n",
      "month_id=20191101 (133743606, 10) (18878576, 10) 7.084411769192761\n",
      "month_id=20191201 (139968338, 10) (25497696, 10) 5.489450419363381\n",
      "month_id=20200101 (132361626, 10) (27970639, 10) 4.7321631086082805\n",
      "month_id=20200201 (125541343, 10) (27892098, 10) 4.500964502562697\n",
      "month_id=20200301 (117948045, 10) (21136637, 10) 5.580265441470183\n",
      "month_id=20200401 (60057747, 10) (11236414, 10) 5.344921164350121\n",
      "month_id=20200501 (85389225, 10) (13110518, 10) 6.513032131911188\n",
      "month_id=20200601 (110870798, 10) (25076288, 10) 4.421340112220756\n",
      "month_id=20200701 (131627226, 10) (30933267, 10) 4.255199620525048\n",
      "month_id=20200801 (144997952, 10) (40686021, 10) 3.563827290950865\n",
      "month_id=20200901 (139126248, 10) (35170828, 10) 3.955728537298013\n",
      "month_id=20201001 (137626734, 10) (36804397, 10) 3.7394101036351715\n",
      "month_id=20201101 (120093487, 10) (35573565, 10) 3.3759193659673974\n",
      "month_id=20201201 (129277773, 10) (33588008, 10) 3.848926468041808\n",
      "month_id=20210101 (129823864, 10) (29868224, 10) 4.34655451894294\n",
      "month_id=20210201 (122080737, 10) (30614876, 10) 3.9876280080311286\n",
      "month_id=20210301 (143021132, 10) (37665638, 10) 3.797124902012811\n",
      "month_id=20210401 (153461624, 10) (43443224, 10) 3.5324639810341885\n",
      "month_id=20210501 (169200537, 10) (48416117, 10) 3.4947151379364025\n",
      "month_id=20210601 (158163292, 10) (49309457, 10) 3.2075650721523865\n",
      "month_id=20210701 (161933637, 10) (50744461, 10) 3.1911588734778364\n",
      "month_id=20210801 (173474251, 10) (45235276, 10) 3.8349329624959068\n"
     ]
    }
   ],
   "source": [
    "tot_trn_path = '/opt/sasdata/dev/PricingEngines/DiscountEngines/Russia/data/raw/gdw_data/'\n",
    "mis_trn_path = '/opt/sasdata/dev/PricingEngines/DiscountEngines/Russia/data/raw/gdw_data_105_trn/'\n",
    "\n",
    "tot_list = []\n",
    "mis_list = []\n",
    "month_list = []\n",
    "file_list = os.listdir(tot_trn_path)\n",
    "file_list.sort()\n",
    "for file in file_list : \n",
    "    tot_df = pd.read_parquet(tot_trn_path + file + '/data.parquet').drop_duplicates()\n",
    "    mis_df = pd.read_parquet(mis_trn_path + file + '/data.parquet').drop_duplicates()\n",
    "    \n",
    "    tot_sh = tot_df.shape\n",
    "    mis_sh = mis_df.shape\n",
    "    month_list.append(file)\n",
    "    \n",
    "    tot_list.append(tot_sh[0])\n",
    "    mis_list.append(mis_sh[0])\n",
    "    \n",
    "    print(file, tot_sh, mis_sh, tot_sh[0]/mis_sh[0])\n"
   ]
  },
  {
   "cell_type": "code",
   "execution_count": null,
   "id": "0ea76571",
   "metadata": {},
   "outputs": [],
   "source": []
  }
 ],
 "metadata": {
  "kernelspec": {
   "display_name": "Python 3",
   "language": "python",
   "name": "python3"
  },
  "language_info": {
   "codemirror_mode": {
    "name": "ipython",
    "version": 3
   },
   "file_extension": ".py",
   "mimetype": "text/x-python",
   "name": "python",
   "nbconvert_exporter": "python",
   "pygments_lexer": "ipython3",
   "version": "3.8.10"
  }
 },
 "nbformat": 4,
 "nbformat_minor": 5
}
