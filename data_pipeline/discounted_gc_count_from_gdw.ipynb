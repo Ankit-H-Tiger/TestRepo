{
 "cells": [
  {
   "cell_type": "code",
   "execution_count": 1,
   "id": "3aae7726",
   "metadata": {},
   "outputs": [],
   "source": [
    "%load_ext autoreload\n",
    "%autoreload 2"
   ]
  },
  {
   "cell_type": "code",
   "execution_count": 2,
   "id": "c92ac54c",
   "metadata": {},
   "outputs": [],
   "source": [
    "import pandas as pd\n",
    "from ta_lib.core.api import load_yml,create_db_connection,create_context\n",
    "from ta_lib.data_utils.data_processing.digital import digital_offer_details"
   ]
  },
  {
   "cell_type": "code",
   "execution_count": null,
   "id": "36dac4db",
   "metadata": {},
   "outputs": [],
   "source": []
  },
  {
   "cell_type": "code",
   "execution_count": 3,
   "id": "657f17d7",
   "metadata": {},
   "outputs": [],
   "source": [
    "config_path = '../../conf/config.yml'\n",
    "cfg=create_context(config_path)"
   ]
  },
  {
   "cell_type": "code",
   "execution_count": null,
<<<<<<< HEAD:discount_engine/notebooks/digital/eda/discounted_gc_count_from_gdw.ipynb
   "id": "b2beb2ab",
   "metadata": {},
   "outputs": [],
   "source": []
  },
  {
   "cell_type": "code",
   "execution_count": null,
   "id": "decf31cb",
   "metadata": {},
   "outputs": [],
   "source": []
  },
  {
   "cell_type": "code",
   "execution_count": 4,
   "id": "4bc7800b",
   "metadata": {},
   "outputs": [],
   "source": [
    "#import os\n",
    "#os.listdir('/opt/sasdata/dev/PricingEngines/DiscountEngines/Russia/data/processed/digital/day_lvl_n_gc_discounted/')\n",
    "\n",
    "#df = pd.DataFrame()\n",
    "#df['dummy'] = [1]\n",
    "\n",
    "#df.to_parquet('/opt/sasdata/dev/PricingEngines/DiscountEngines/Russia/data/processed/digital/day_lvl_n_gc_discounted/dummy.parquet')\n",
    "#_change_permissions_recursive('/opt/sasdata/dev/PricingEngines/DiscountEngines/Russia/data/processed/digital/day_lvl_n_gc_discounted/', 0o777)"
   ]
  },
  {
   "cell_type": "code",
   "execution_count": null,
   "id": "d9b2a345",
   "metadata": {},
   "outputs": [],
   "source": []
  },
  {
   "cell_type": "code",
   "execution_count": 5,
=======
>>>>>>> 15697192b1443eced50cfb7b69f247b2a59bc28c:discount_engine/notebooks/data_pipeline/discounted_gc_count_from_gdw.ipynb
   "id": "765c892a",
   "metadata": {},
   "outputs": [
    {
     "name": "stdout",
     "output_type": "stream",
     "text": [
      "['month_id=202104', 'month_id=202108', 'month_id=202106', 'month_id=202012', 'month_id=202102', 'month_id=202105', 'month_id=202011', 'month_id=202101', 'month_id=202107', 'month_id=202103']\n",
      "Done with  month_id=202104\n",
      "Done with  month_id=202108\n",
      "Done with  month_id=202106\n",
      "Done with  month_id=202012\n",
      "Done with  month_id=202102\n",
      "Done with  month_id=202105\n",
      "Done with  month_id=202011\n",
      "Done with  month_id=202101\n",
      "Done with  month_id=202107\n",
      "Done with  month_id=202103\n"
     ]
    }
   ],
   "source": [
    "digital_offer_details.get_discounted_gc_count(cfg.offline)"
   ]
  },
  {
   "cell_type": "code",
   "execution_count": null,
   "id": "039764c3",
   "metadata": {},
   "outputs": [],
   "source": []
  }
 ],
 "metadata": {
  "kernelspec": {
   "display_name": "Python 3",
   "language": "python",
   "name": "python3"
  },
  "language_info": {
   "codemirror_mode": {
    "name": "ipython",
    "version": 3
   },
   "file_extension": ".py",
   "mimetype": "text/x-python",
   "name": "python",
   "nbconvert_exporter": "python",
   "pygments_lexer": "ipython3",
   "version": "3.8.10"
  }
 },
 "nbformat": 4,
 "nbformat_minor": 5
}
